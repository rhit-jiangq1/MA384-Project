{
 "cells": [
  {
   "cell_type": "markdown",
   "id": "a07ad1cd",
   "metadata": {},
   "source": [
    "## Preprocess Data"
   ]
  },
  {
   "cell_type": "code",
   "execution_count": 1,
   "id": "d693aea9",
   "metadata": {},
   "outputs": [],
   "source": [
    "import pandas as pd\n",
    "from sklearn.tree import DecisionTreeClassifier, export_text\n",
    "from sklearn.model_selection import GridSearchCV\n",
    "from sklearn.naive_bayes import MultinomialNB\n",
    "from matplotlib import pyplot as plt\n",
    "from datetime import datetime, date"
   ]
  },
  {
   "cell_type": "code",
   "execution_count": 2,
   "id": "ad15836d",
   "metadata": {},
   "outputs": [
    {
     "data": {
      "text/html": [
       "<div>\n",
       "<style scoped>\n",
       "    .dataframe tbody tr th:only-of-type {\n",
       "        vertical-align: middle;\n",
       "    }\n",
       "\n",
       "    .dataframe tbody tr th {\n",
       "        vertical-align: top;\n",
       "    }\n",
       "\n",
       "    .dataframe thead th {\n",
       "        text-align: right;\n",
       "    }\n",
       "</style>\n",
       "<table border=\"1\" class=\"dataframe\">\n",
       "  <thead>\n",
       "    <tr style=\"text-align: right;\">\n",
       "      <th></th>\n",
       "      <th>int_player_id</th>\n",
       "      <th>str_player_name</th>\n",
       "      <th>str_positions</th>\n",
       "      <th>dt_date_of_birth</th>\n",
       "      <th>int_height</th>\n",
       "      <th>int_weight</th>\n",
       "      <th>int_overall_rating</th>\n",
       "      <th>int_potential_rating</th>\n",
       "      <th>str_best_position</th>\n",
       "      <th>int_best_overall_rating</th>\n",
       "      <th>...</th>\n",
       "      <th>int_international_reputations</th>\n",
       "      <th>str_work_rate</th>\n",
       "      <th>str_body_type</th>\n",
       "      <th>int_dribbling</th>\n",
       "      <th>int_curve</th>\n",
       "      <th>int_fk_accuracy</th>\n",
       "      <th>int_long_passing</th>\n",
       "      <th>int_ball_control</th>\n",
       "      <th>str_player_speciality</th>\n",
       "      <th>str_trait</th>\n",
       "    </tr>\n",
       "  </thead>\n",
       "  <tbody>\n",
       "    <tr>\n",
       "      <th>0</th>\n",
       "      <td>1</td>\n",
       "      <td>Lionel Andrés Messi Cuccittini</td>\n",
       "      <td>RW, ST, CF</td>\n",
       "      <td>1987-06-24</td>\n",
       "      <td>170</td>\n",
       "      <td>72</td>\n",
       "      <td>93</td>\n",
       "      <td>93</td>\n",
       "      <td>RW</td>\n",
       "      <td>93</td>\n",
       "      <td>...</td>\n",
       "      <td>5</td>\n",
       "      <td>Medium/ Low</td>\n",
       "      <td>Unique</td>\n",
       "      <td>96</td>\n",
       "      <td>93</td>\n",
       "      <td>94</td>\n",
       "      <td>91</td>\n",
       "      <td>96</td>\n",
       "      <td>['Dribbler', 'Distance Shooter', 'FK Specialis...</td>\n",
       "      <td>['Finesse Shot', 'Long Shot Taker (AI)', 'Spee...</td>\n",
       "    </tr>\n",
       "    <tr>\n",
       "      <th>1</th>\n",
       "      <td>2</td>\n",
       "      <td>Cristiano Ronaldo dos Santos Aveiro</td>\n",
       "      <td>ST, LW</td>\n",
       "      <td>1985-02-05</td>\n",
       "      <td>187</td>\n",
       "      <td>83</td>\n",
       "      <td>92</td>\n",
       "      <td>92</td>\n",
       "      <td>ST</td>\n",
       "      <td>92</td>\n",
       "      <td>...</td>\n",
       "      <td>5</td>\n",
       "      <td>High/ Low</td>\n",
       "      <td>Unique</td>\n",
       "      <td>88</td>\n",
       "      <td>81</td>\n",
       "      <td>76</td>\n",
       "      <td>77</td>\n",
       "      <td>92</td>\n",
       "      <td>['Aerial Threat', 'Dribbler', 'Distance Shoote...</td>\n",
       "      <td>['Power Free-Kick', 'Flair', 'Long Shot Taker ...</td>\n",
       "    </tr>\n",
       "    <tr>\n",
       "      <th>2</th>\n",
       "      <td>3</td>\n",
       "      <td>Jan Oblak</td>\n",
       "      <td>GK</td>\n",
       "      <td>1993-01-07</td>\n",
       "      <td>188</td>\n",
       "      <td>87</td>\n",
       "      <td>91</td>\n",
       "      <td>93</td>\n",
       "      <td>GK</td>\n",
       "      <td>91</td>\n",
       "      <td>...</td>\n",
       "      <td>3</td>\n",
       "      <td>Medium/ Medium</td>\n",
       "      <td>Unique</td>\n",
       "      <td>12</td>\n",
       "      <td>13</td>\n",
       "      <td>14</td>\n",
       "      <td>40</td>\n",
       "      <td>30</td>\n",
       "      <td>NaN</td>\n",
       "      <td>['GK Long Throw', 'Comes For Crosses']</td>\n",
       "    </tr>\n",
       "  </tbody>\n",
       "</table>\n",
       "<p>3 rows × 56 columns</p>\n",
       "</div>"
      ],
      "text/plain": [
       "   int_player_id                      str_player_name str_positions  \\\n",
       "0              1       Lionel Andrés Messi Cuccittini    RW, ST, CF   \n",
       "1              2  Cristiano Ronaldo dos Santos Aveiro        ST, LW   \n",
       "2              3                            Jan Oblak            GK   \n",
       "\n",
       "  dt_date_of_birth  int_height  int_weight  int_overall_rating  \\\n",
       "0       1987-06-24         170          72                  93   \n",
       "1       1985-02-05         187          83                  92   \n",
       "2       1993-01-07         188          87                  91   \n",
       "\n",
       "   int_potential_rating str_best_position  int_best_overall_rating  ...  \\\n",
       "0                    93                RW                       93  ...   \n",
       "1                    92                ST                       92  ...   \n",
       "2                    93                GK                       91  ...   \n",
       "\n",
       "   int_international_reputations   str_work_rate  str_body_type int_dribbling  \\\n",
       "0                              5     Medium/ Low         Unique            96   \n",
       "1                              5       High/ Low         Unique            88   \n",
       "2                              3  Medium/ Medium         Unique            12   \n",
       "\n",
       "   int_curve  int_fk_accuracy  int_long_passing  int_ball_control  \\\n",
       "0         93               94                91                96   \n",
       "1         81               76                77                92   \n",
       "2         13               14                40                30   \n",
       "\n",
       "                               str_player_speciality  \\\n",
       "0  ['Dribbler', 'Distance Shooter', 'FK Specialis...   \n",
       "1  ['Aerial Threat', 'Dribbler', 'Distance Shoote...   \n",
       "2                                                NaN   \n",
       "\n",
       "                                           str_trait  \n",
       "0  ['Finesse Shot', 'Long Shot Taker (AI)', 'Spee...  \n",
       "1  ['Power Free-Kick', 'Flair', 'Long Shot Taker ...  \n",
       "2             ['GK Long Throw', 'Comes For Crosses']  \n",
       "\n",
       "[3 rows x 56 columns]"
      ]
     },
     "execution_count": 2,
     "metadata": {},
     "output_type": "execute_result"
    }
   ],
   "source": [
    "df = pd.read_csv(\"C:/Users/wangy51/Documents/Rose-Hulman/2022 Winter/MA384/project/archive/players.csv\")\n",
    "df.head(3)"
   ]
  },
  {
   "cell_type": "code",
   "execution_count": 3,
   "id": "a514d698",
   "metadata": {
    "scrolled": true
   },
   "outputs": [],
   "source": [
    "#df.dtypes"
   ]
  },
  {
   "cell_type": "code",
   "execution_count": 4,
   "id": "ddc52d48",
   "metadata": {},
   "outputs": [
    {
     "data": {
      "text/html": [
       "<div>\n",
       "<style scoped>\n",
       "    .dataframe tbody tr th:only-of-type {\n",
       "        vertical-align: middle;\n",
       "    }\n",
       "\n",
       "    .dataframe tbody tr th {\n",
       "        vertical-align: top;\n",
       "    }\n",
       "\n",
       "    .dataframe thead th {\n",
       "        text-align: right;\n",
       "    }\n",
       "</style>\n",
       "<table border=\"1\" class=\"dataframe\">\n",
       "  <thead>\n",
       "    <tr style=\"text-align: right;\">\n",
       "      <th></th>\n",
       "      <th>int_player_id</th>\n",
       "      <th>str_player_name</th>\n",
       "      <th>str_positions</th>\n",
       "      <th>dt_date_of_birth</th>\n",
       "      <th>int_height</th>\n",
       "      <th>int_weight</th>\n",
       "      <th>int_overall_rating</th>\n",
       "      <th>int_potential_rating</th>\n",
       "      <th>str_best_position</th>\n",
       "      <th>int_best_overall_rating</th>\n",
       "      <th>...</th>\n",
       "      <th>str_work_rate</th>\n",
       "      <th>str_body_type</th>\n",
       "      <th>int_dribbling</th>\n",
       "      <th>int_curve</th>\n",
       "      <th>int_fk_accuracy</th>\n",
       "      <th>int_long_passing</th>\n",
       "      <th>int_ball_control</th>\n",
       "      <th>str_player_speciality</th>\n",
       "      <th>str_trait</th>\n",
       "      <th>salary_rank</th>\n",
       "    </tr>\n",
       "  </thead>\n",
       "  <tbody>\n",
       "    <tr>\n",
       "      <th>0</th>\n",
       "      <td>1</td>\n",
       "      <td>Lionel Andrés Messi Cuccittini</td>\n",
       "      <td>RW, ST, CF</td>\n",
       "      <td>1987-06-24</td>\n",
       "      <td>170</td>\n",
       "      <td>72</td>\n",
       "      <td>93</td>\n",
       "      <td>93</td>\n",
       "      <td>RW</td>\n",
       "      <td>93</td>\n",
       "      <td>...</td>\n",
       "      <td>Medium/ Low</td>\n",
       "      <td>Unique</td>\n",
       "      <td>96</td>\n",
       "      <td>93</td>\n",
       "      <td>94</td>\n",
       "      <td>91</td>\n",
       "      <td>96</td>\n",
       "      <td>['Dribbler', 'Distance Shooter', 'FK Specialis...</td>\n",
       "      <td>['Finesse Shot', 'Long Shot Taker (AI)', 'Spee...</td>\n",
       "      <td>H</td>\n",
       "    </tr>\n",
       "    <tr>\n",
       "      <th>1</th>\n",
       "      <td>2</td>\n",
       "      <td>Cristiano Ronaldo dos Santos Aveiro</td>\n",
       "      <td>ST, LW</td>\n",
       "      <td>1985-02-05</td>\n",
       "      <td>187</td>\n",
       "      <td>83</td>\n",
       "      <td>92</td>\n",
       "      <td>92</td>\n",
       "      <td>ST</td>\n",
       "      <td>92</td>\n",
       "      <td>...</td>\n",
       "      <td>High/ Low</td>\n",
       "      <td>Unique</td>\n",
       "      <td>88</td>\n",
       "      <td>81</td>\n",
       "      <td>76</td>\n",
       "      <td>77</td>\n",
       "      <td>92</td>\n",
       "      <td>['Aerial Threat', 'Dribbler', 'Distance Shoote...</td>\n",
       "      <td>['Power Free-Kick', 'Flair', 'Long Shot Taker ...</td>\n",
       "      <td>H</td>\n",
       "    </tr>\n",
       "    <tr>\n",
       "      <th>2</th>\n",
       "      <td>3</td>\n",
       "      <td>Jan Oblak</td>\n",
       "      <td>GK</td>\n",
       "      <td>1993-01-07</td>\n",
       "      <td>188</td>\n",
       "      <td>87</td>\n",
       "      <td>91</td>\n",
       "      <td>93</td>\n",
       "      <td>GK</td>\n",
       "      <td>91</td>\n",
       "      <td>...</td>\n",
       "      <td>Medium/ Medium</td>\n",
       "      <td>Unique</td>\n",
       "      <td>12</td>\n",
       "      <td>13</td>\n",
       "      <td>14</td>\n",
       "      <td>40</td>\n",
       "      <td>30</td>\n",
       "      <td>NaN</td>\n",
       "      <td>['GK Long Throw', 'Comes For Crosses']</td>\n",
       "      <td>H</td>\n",
       "    </tr>\n",
       "  </tbody>\n",
       "</table>\n",
       "<p>3 rows × 57 columns</p>\n",
       "</div>"
      ],
      "text/plain": [
       "   int_player_id                      str_player_name str_positions  \\\n",
       "0              1       Lionel Andrés Messi Cuccittini    RW, ST, CF   \n",
       "1              2  Cristiano Ronaldo dos Santos Aveiro        ST, LW   \n",
       "2              3                            Jan Oblak            GK   \n",
       "\n",
       "  dt_date_of_birth  int_height  int_weight  int_overall_rating  \\\n",
       "0       1987-06-24         170          72                  93   \n",
       "1       1985-02-05         187          83                  92   \n",
       "2       1993-01-07         188          87                  91   \n",
       "\n",
       "   int_potential_rating str_best_position  int_best_overall_rating  ...  \\\n",
       "0                    93                RW                       93  ...   \n",
       "1                    92                ST                       92  ...   \n",
       "2                    93                GK                       91  ...   \n",
       "\n",
       "    str_work_rate  str_body_type  int_dribbling int_curve  int_fk_accuracy  \\\n",
       "0     Medium/ Low         Unique             96        93               94   \n",
       "1       High/ Low         Unique             88        81               76   \n",
       "2  Medium/ Medium         Unique             12        13               14   \n",
       "\n",
       "   int_long_passing  int_ball_control  \\\n",
       "0                91                96   \n",
       "1                77                92   \n",
       "2                40                30   \n",
       "\n",
       "                               str_player_speciality  \\\n",
       "0  ['Dribbler', 'Distance Shooter', 'FK Specialis...   \n",
       "1  ['Aerial Threat', 'Dribbler', 'Distance Shoote...   \n",
       "2                                                NaN   \n",
       "\n",
       "                                           str_trait  salary_rank  \n",
       "0  ['Finesse Shot', 'Long Shot Taker (AI)', 'Spee...            H  \n",
       "1  ['Power Free-Kick', 'Flair', 'Long Shot Taker ...            H  \n",
       "2             ['GK Long Throw', 'Comes For Crosses']            H  \n",
       "\n",
       "[3 rows x 57 columns]"
      ]
     },
     "execution_count": 4,
     "metadata": {},
     "output_type": "execute_result"
    }
   ],
   "source": [
    "df['salary_rank'] = pd.qcut(df['int_wage'],q=3,labels=['L','M','H'])\n",
    "df.head(3)"
   ]
  },
  {
   "cell_type": "code",
   "execution_count": 5,
   "id": "28769388",
   "metadata": {},
   "outputs": [
    {
     "data": {
      "text/plain": [
       "L    8755\n",
       "H    5683\n",
       "M    4564\n",
       "Name: salary_rank, dtype: int64"
      ]
     },
     "execution_count": 5,
     "metadata": {},
     "output_type": "execute_result"
    }
   ],
   "source": [
    "df['salary_rank'].value_counts()"
   ]
  },
  {
   "cell_type": "code",
   "execution_count": 6,
   "id": "1b04ea4c",
   "metadata": {},
   "outputs": [],
   "source": [
    "base_acc = 8755/(8755+5683+4564)"
   ]
  },
  {
   "cell_type": "code",
   "execution_count": 7,
   "id": "ef874c48",
   "metadata": {},
   "outputs": [],
   "source": [
    "df['salary_rank'] = df['salary_rank'].astype('category')\n",
    "df['str_positions'] = df['str_positions'].astype('category')\n",
    "df['str_best_position'] = df['str_best_position'].astype('category')\n",
    "df['str_nationality'] = df['str_nationality'].astype('category')\n",
    "df['str_preferred_foot'] = df['str_preferred_foot'].astype('category')\n",
    "df['str_trait'] = df['str_trait'].astype('category')\n",
    "df['str_player_speciality'] = df['str_player_speciality'].astype('category')\n",
    "df['str_body_type'] = df['str_body_type'].astype('category')\n",
    "df['str_work_rate'] = df['str_work_rate'].astype('category')\n",
    "df['int_team_id'] = df['int_team_id'].astype('category')\n",
    "df['int_player_age'] = date.today().year - pd.DatetimeIndex(pd.to_datetime(df['dt_date_of_birth'])).year"
   ]
  },
  {
   "cell_type": "code",
   "execution_count": 8,
   "id": "2401aa36",
   "metadata": {},
   "outputs": [],
   "source": [
    "df=df.dropna()"
   ]
  },
  {
   "cell_type": "code",
   "execution_count": 9,
   "id": "e7c1a765",
   "metadata": {},
   "outputs": [],
   "source": [
    "#df.dtypes"
   ]
  },
  {
   "cell_type": "code",
   "execution_count": 10,
   "id": "260b0c0b",
   "metadata": {},
   "outputs": [],
   "source": [
    "X = df.drop(['salary_rank','int_player_id','str_player_name','int_wage','dt_date_of_birth','str_trait','int_player_age'],axis=1)\n",
    "y = df.salary_rank"
   ]
  },
  {
   "cell_type": "code",
   "execution_count": 11,
   "id": "82030c9c",
   "metadata": {},
   "outputs": [
    {
     "data": {
      "text/html": [
       "<div>\n",
       "<style scoped>\n",
       "    .dataframe tbody tr th:only-of-type {\n",
       "        vertical-align: middle;\n",
       "    }\n",
       "\n",
       "    .dataframe tbody tr th {\n",
       "        vertical-align: top;\n",
       "    }\n",
       "\n",
       "    .dataframe thead th {\n",
       "        text-align: right;\n",
       "    }\n",
       "</style>\n",
       "<table border=\"1\" class=\"dataframe\">\n",
       "  <thead>\n",
       "    <tr style=\"text-align: right;\">\n",
       "      <th></th>\n",
       "      <th>str_positions</th>\n",
       "      <th>int_height</th>\n",
       "      <th>int_weight</th>\n",
       "      <th>int_overall_rating</th>\n",
       "      <th>int_potential_rating</th>\n",
       "      <th>str_best_position</th>\n",
       "      <th>int_best_overall_rating</th>\n",
       "      <th>int_value</th>\n",
       "      <th>int_team_id</th>\n",
       "      <th>str_nationality</th>\n",
       "      <th>...</th>\n",
       "      <th>int_skill_moves</th>\n",
       "      <th>int_international_reputations</th>\n",
       "      <th>str_work_rate</th>\n",
       "      <th>str_body_type</th>\n",
       "      <th>int_dribbling</th>\n",
       "      <th>int_curve</th>\n",
       "      <th>int_fk_accuracy</th>\n",
       "      <th>int_long_passing</th>\n",
       "      <th>int_ball_control</th>\n",
       "      <th>str_player_speciality</th>\n",
       "    </tr>\n",
       "  </thead>\n",
       "  <tbody>\n",
       "    <tr>\n",
       "      <th>0</th>\n",
       "      <td>RW, ST, CF</td>\n",
       "      <td>170</td>\n",
       "      <td>72</td>\n",
       "      <td>93</td>\n",
       "      <td>93</td>\n",
       "      <td>RW</td>\n",
       "      <td>93</td>\n",
       "      <td>103500000</td>\n",
       "      <td>5.0</td>\n",
       "      <td>Argentina</td>\n",
       "      <td>...</td>\n",
       "      <td>4</td>\n",
       "      <td>5</td>\n",
       "      <td>Medium/ Low</td>\n",
       "      <td>Unique</td>\n",
       "      <td>96</td>\n",
       "      <td>93</td>\n",
       "      <td>94</td>\n",
       "      <td>91</td>\n",
       "      <td>96</td>\n",
       "      <td>['Dribbler', 'Distance Shooter', 'FK Specialis...</td>\n",
       "    </tr>\n",
       "    <tr>\n",
       "      <th>1</th>\n",
       "      <td>ST, LW</td>\n",
       "      <td>187</td>\n",
       "      <td>83</td>\n",
       "      <td>92</td>\n",
       "      <td>92</td>\n",
       "      <td>ST</td>\n",
       "      <td>92</td>\n",
       "      <td>63000000</td>\n",
       "      <td>6.0</td>\n",
       "      <td>Portugal</td>\n",
       "      <td>...</td>\n",
       "      <td>5</td>\n",
       "      <td>5</td>\n",
       "      <td>High/ Low</td>\n",
       "      <td>Unique</td>\n",
       "      <td>88</td>\n",
       "      <td>81</td>\n",
       "      <td>76</td>\n",
       "      <td>77</td>\n",
       "      <td>92</td>\n",
       "      <td>['Aerial Threat', 'Dribbler', 'Distance Shoote...</td>\n",
       "    </tr>\n",
       "    <tr>\n",
       "      <th>3</th>\n",
       "      <td>CAM, CM</td>\n",
       "      <td>181</td>\n",
       "      <td>70</td>\n",
       "      <td>91</td>\n",
       "      <td>91</td>\n",
       "      <td>CAM</td>\n",
       "      <td>91</td>\n",
       "      <td>129000000</td>\n",
       "      <td>2.0</td>\n",
       "      <td>Belgium</td>\n",
       "      <td>...</td>\n",
       "      <td>4</td>\n",
       "      <td>4</td>\n",
       "      <td>High/ High</td>\n",
       "      <td>Unique</td>\n",
       "      <td>88</td>\n",
       "      <td>85</td>\n",
       "      <td>83</td>\n",
       "      <td>93</td>\n",
       "      <td>92</td>\n",
       "      <td>['Dribbler', 'Playmaker\\xa0', 'Engine', 'Dista...</td>\n",
       "    </tr>\n",
       "    <tr>\n",
       "      <th>4</th>\n",
       "      <td>LW, CAM</td>\n",
       "      <td>175</td>\n",
       "      <td>68</td>\n",
       "      <td>91</td>\n",
       "      <td>91</td>\n",
       "      <td>LW</td>\n",
       "      <td>91</td>\n",
       "      <td>132000000</td>\n",
       "      <td>7.0</td>\n",
       "      <td>Brazil</td>\n",
       "      <td>...</td>\n",
       "      <td>5</td>\n",
       "      <td>5</td>\n",
       "      <td>High/ Medium</td>\n",
       "      <td>Unique</td>\n",
       "      <td>95</td>\n",
       "      <td>88</td>\n",
       "      <td>89</td>\n",
       "      <td>81</td>\n",
       "      <td>95</td>\n",
       "      <td>['Speedster', 'Dribbler', 'Playmaker\\xa0', 'FK...</td>\n",
       "    </tr>\n",
       "    <tr>\n",
       "      <th>5</th>\n",
       "      <td>ST</td>\n",
       "      <td>184</td>\n",
       "      <td>80</td>\n",
       "      <td>91</td>\n",
       "      <td>91</td>\n",
       "      <td>ST</td>\n",
       "      <td>91</td>\n",
       "      <td>111000000</td>\n",
       "      <td>4.0</td>\n",
       "      <td>Poland</td>\n",
       "      <td>...</td>\n",
       "      <td>4</td>\n",
       "      <td>4</td>\n",
       "      <td>High/ Medium</td>\n",
       "      <td>Unique</td>\n",
       "      <td>85</td>\n",
       "      <td>79</td>\n",
       "      <td>85</td>\n",
       "      <td>70</td>\n",
       "      <td>88</td>\n",
       "      <td>['Distance Shooter', 'Clinical Finisher']</td>\n",
       "    </tr>\n",
       "  </tbody>\n",
       "</table>\n",
       "<p>5 rows × 51 columns</p>\n",
       "</div>"
      ],
      "text/plain": [
       "  str_positions  int_height  int_weight  int_overall_rating  \\\n",
       "0    RW, ST, CF         170          72                  93   \n",
       "1        ST, LW         187          83                  92   \n",
       "3       CAM, CM         181          70                  91   \n",
       "4       LW, CAM         175          68                  91   \n",
       "5            ST         184          80                  91   \n",
       "\n",
       "   int_potential_rating str_best_position  int_best_overall_rating  int_value  \\\n",
       "0                    93                RW                       93  103500000   \n",
       "1                    92                ST                       92   63000000   \n",
       "3                    91               CAM                       91  129000000   \n",
       "4                    91                LW                       91  132000000   \n",
       "5                    91                ST                       91  111000000   \n",
       "\n",
       "  int_team_id str_nationality  ...  int_skill_moves  \\\n",
       "0         5.0       Argentina  ...                4   \n",
       "1         6.0        Portugal  ...                5   \n",
       "3         2.0         Belgium  ...                4   \n",
       "4         7.0          Brazil  ...                5   \n",
       "5         4.0          Poland  ...                4   \n",
       "\n",
       "   int_international_reputations  str_work_rate  str_body_type  int_dribbling  \\\n",
       "0                              5    Medium/ Low         Unique             96   \n",
       "1                              5      High/ Low         Unique             88   \n",
       "3                              4     High/ High         Unique             88   \n",
       "4                              5   High/ Medium         Unique             95   \n",
       "5                              4   High/ Medium         Unique             85   \n",
       "\n",
       "   int_curve  int_fk_accuracy  int_long_passing  int_ball_control  \\\n",
       "0         93               94                91                96   \n",
       "1         81               76                77                92   \n",
       "3         85               83                93                92   \n",
       "4         88               89                81                95   \n",
       "5         79               85                70                88   \n",
       "\n",
       "                               str_player_speciality  \n",
       "0  ['Dribbler', 'Distance Shooter', 'FK Specialis...  \n",
       "1  ['Aerial Threat', 'Dribbler', 'Distance Shoote...  \n",
       "3  ['Dribbler', 'Playmaker\\xa0', 'Engine', 'Dista...  \n",
       "4  ['Speedster', 'Dribbler', 'Playmaker\\xa0', 'FK...  \n",
       "5          ['Distance Shooter', 'Clinical Finisher']  \n",
       "\n",
       "[5 rows x 51 columns]"
      ]
     },
     "execution_count": 11,
     "metadata": {},
     "output_type": "execute_result"
    }
   ],
   "source": [
    "X.head()"
   ]
  },
  {
   "cell_type": "code",
   "execution_count": 12,
   "id": "9f80099d",
   "metadata": {},
   "outputs": [],
   "source": [
    "X_ohe = pd.get_dummies(X)\n",
    "#X_ohe"
   ]
  },
  {
   "cell_type": "markdown",
   "id": "ab4f9bb8",
   "metadata": {},
   "source": [
    "## Decision Tree (3 category)"
   ]
  },
  {
   "cell_type": "code",
   "execution_count": 13,
   "id": "48ad28e8",
   "metadata": {},
   "outputs": [],
   "source": [
    "dtree = DecisionTreeClassifier()"
   ]
  },
  {
   "cell_type": "code",
   "execution_count": 14,
   "id": "16cd78eb",
   "metadata": {},
   "outputs": [],
   "source": [
    "parameters = {'max_depth': [1,2,3,4,5,6,7,8,9,10,11,12,13,14,15,16,17,18,19,20]}"
   ]
  },
  {
   "cell_type": "code",
   "execution_count": 15,
   "id": "af54abcf",
   "metadata": {},
   "outputs": [],
   "source": [
    "dtreeCV = GridSearchCV(dtree,param_grid=parameters,return_train_score=True,n_jobs=-1)"
   ]
  },
  {
   "cell_type": "code",
   "execution_count": 16,
   "id": "fe9579e4",
   "metadata": {},
   "outputs": [
    {
     "data": {
      "text/html": [
       "<style>#sk-container-id-1 {color: black;background-color: white;}#sk-container-id-1 pre{padding: 0;}#sk-container-id-1 div.sk-toggleable {background-color: white;}#sk-container-id-1 label.sk-toggleable__label {cursor: pointer;display: block;width: 100%;margin-bottom: 0;padding: 0.3em;box-sizing: border-box;text-align: center;}#sk-container-id-1 label.sk-toggleable__label-arrow:before {content: \"▸\";float: left;margin-right: 0.25em;color: #696969;}#sk-container-id-1 label.sk-toggleable__label-arrow:hover:before {color: black;}#sk-container-id-1 div.sk-estimator:hover label.sk-toggleable__label-arrow:before {color: black;}#sk-container-id-1 div.sk-toggleable__content {max-height: 0;max-width: 0;overflow: hidden;text-align: left;background-color: #f0f8ff;}#sk-container-id-1 div.sk-toggleable__content pre {margin: 0.2em;color: black;border-radius: 0.25em;background-color: #f0f8ff;}#sk-container-id-1 input.sk-toggleable__control:checked~div.sk-toggleable__content {max-height: 200px;max-width: 100%;overflow: auto;}#sk-container-id-1 input.sk-toggleable__control:checked~label.sk-toggleable__label-arrow:before {content: \"▾\";}#sk-container-id-1 div.sk-estimator input.sk-toggleable__control:checked~label.sk-toggleable__label {background-color: #d4ebff;}#sk-container-id-1 div.sk-label input.sk-toggleable__control:checked~label.sk-toggleable__label {background-color: #d4ebff;}#sk-container-id-1 input.sk-hidden--visually {border: 0;clip: rect(1px 1px 1px 1px);clip: rect(1px, 1px, 1px, 1px);height: 1px;margin: -1px;overflow: hidden;padding: 0;position: absolute;width: 1px;}#sk-container-id-1 div.sk-estimator {font-family: monospace;background-color: #f0f8ff;border: 1px dotted black;border-radius: 0.25em;box-sizing: border-box;margin-bottom: 0.5em;}#sk-container-id-1 div.sk-estimator:hover {background-color: #d4ebff;}#sk-container-id-1 div.sk-parallel-item::after {content: \"\";width: 100%;border-bottom: 1px solid gray;flex-grow: 1;}#sk-container-id-1 div.sk-label:hover label.sk-toggleable__label {background-color: #d4ebff;}#sk-container-id-1 div.sk-serial::before {content: \"\";position: absolute;border-left: 1px solid gray;box-sizing: border-box;top: 0;bottom: 0;left: 50%;z-index: 0;}#sk-container-id-1 div.sk-serial {display: flex;flex-direction: column;align-items: center;background-color: white;padding-right: 0.2em;padding-left: 0.2em;position: relative;}#sk-container-id-1 div.sk-item {position: relative;z-index: 1;}#sk-container-id-1 div.sk-parallel {display: flex;align-items: stretch;justify-content: center;background-color: white;position: relative;}#sk-container-id-1 div.sk-item::before, #sk-container-id-1 div.sk-parallel-item::before {content: \"\";position: absolute;border-left: 1px solid gray;box-sizing: border-box;top: 0;bottom: 0;left: 50%;z-index: -1;}#sk-container-id-1 div.sk-parallel-item {display: flex;flex-direction: column;z-index: 1;position: relative;background-color: white;}#sk-container-id-1 div.sk-parallel-item:first-child::after {align-self: flex-end;width: 50%;}#sk-container-id-1 div.sk-parallel-item:last-child::after {align-self: flex-start;width: 50%;}#sk-container-id-1 div.sk-parallel-item:only-child::after {width: 0;}#sk-container-id-1 div.sk-dashed-wrapped {border: 1px dashed gray;margin: 0 0.4em 0.5em 0.4em;box-sizing: border-box;padding-bottom: 0.4em;background-color: white;}#sk-container-id-1 div.sk-label label {font-family: monospace;font-weight: bold;display: inline-block;line-height: 1.2em;}#sk-container-id-1 div.sk-label-container {text-align: center;}#sk-container-id-1 div.sk-container {/* jupyter's `normalize.less` sets `[hidden] { display: none; }` but bootstrap.min.css set `[hidden] { display: none !important; }` so we also need the `!important` here to be able to override the default hidden behavior on the sphinx rendered scikit-learn.org. See: https://github.com/scikit-learn/scikit-learn/issues/21755 */display: inline-block !important;position: relative;}#sk-container-id-1 div.sk-text-repr-fallback {display: none;}</style><div id=\"sk-container-id-1\" class=\"sk-top-container\"><div class=\"sk-text-repr-fallback\"><pre>GridSearchCV(estimator=DecisionTreeClassifier(), n_jobs=-1,\n",
       "             param_grid={&#x27;max_depth&#x27;: [1, 2, 3, 4, 5, 6, 7, 8, 9, 10, 11, 12,\n",
       "                                       13, 14, 15, 16, 17, 18, 19, 20]},\n",
       "             return_train_score=True)</pre><b>In a Jupyter environment, please rerun this cell to show the HTML representation or trust the notebook. <br />On GitHub, the HTML representation is unable to render, please try loading this page with nbviewer.org.</b></div><div class=\"sk-container\" hidden><div class=\"sk-item sk-dashed-wrapped\"><div class=\"sk-label-container\"><div class=\"sk-label sk-toggleable\"><input class=\"sk-toggleable__control sk-hidden--visually\" id=\"sk-estimator-id-1\" type=\"checkbox\" ><label for=\"sk-estimator-id-1\" class=\"sk-toggleable__label sk-toggleable__label-arrow\">GridSearchCV</label><div class=\"sk-toggleable__content\"><pre>GridSearchCV(estimator=DecisionTreeClassifier(), n_jobs=-1,\n",
       "             param_grid={&#x27;max_depth&#x27;: [1, 2, 3, 4, 5, 6, 7, 8, 9, 10, 11, 12,\n",
       "                                       13, 14, 15, 16, 17, 18, 19, 20]},\n",
       "             return_train_score=True)</pre></div></div></div><div class=\"sk-parallel\"><div class=\"sk-parallel-item\"><div class=\"sk-item\"><div class=\"sk-label-container\"><div class=\"sk-label sk-toggleable\"><input class=\"sk-toggleable__control sk-hidden--visually\" id=\"sk-estimator-id-2\" type=\"checkbox\" ><label for=\"sk-estimator-id-2\" class=\"sk-toggleable__label sk-toggleable__label-arrow\">estimator: DecisionTreeClassifier</label><div class=\"sk-toggleable__content\"><pre>DecisionTreeClassifier()</pre></div></div></div><div class=\"sk-serial\"><div class=\"sk-item\"><div class=\"sk-estimator sk-toggleable\"><input class=\"sk-toggleable__control sk-hidden--visually\" id=\"sk-estimator-id-3\" type=\"checkbox\" ><label for=\"sk-estimator-id-3\" class=\"sk-toggleable__label sk-toggleable__label-arrow\">DecisionTreeClassifier</label><div class=\"sk-toggleable__content\"><pre>DecisionTreeClassifier()</pre></div></div></div></div></div></div></div></div></div></div>"
      ],
      "text/plain": [
       "GridSearchCV(estimator=DecisionTreeClassifier(), n_jobs=-1,\n",
       "             param_grid={'max_depth': [1, 2, 3, 4, 5, 6, 7, 8, 9, 10, 11, 12,\n",
       "                                       13, 14, 15, 16, 17, 18, 19, 20]},\n",
       "             return_train_score=True)"
      ]
     },
     "execution_count": 16,
     "metadata": {},
     "output_type": "execute_result"
    }
   ],
   "source": [
    "dtreeCV.fit(X_ohe,y)"
   ]
  },
  {
   "cell_type": "code",
   "execution_count": 17,
   "id": "fab549db",
   "metadata": {},
   "outputs": [
    {
     "data": {
      "text/plain": [
       "{'max_depth': 2}"
      ]
     },
     "execution_count": 17,
     "metadata": {},
     "output_type": "execute_result"
    }
   ],
   "source": [
    "dtreeCV.best_params_"
   ]
  },
  {
   "cell_type": "code",
   "execution_count": 18,
   "id": "d559d6ca",
   "metadata": {},
   "outputs": [
    {
     "data": {
      "text/plain": [
       "0.6633166702890676"
      ]
     },
     "execution_count": 18,
     "metadata": {},
     "output_type": "execute_result"
    }
   ],
   "source": [
    "dtreeCV.best_score_"
   ]
  },
  {
   "cell_type": "code",
   "execution_count": 19,
   "id": "d3d0eba8",
   "metadata": {},
   "outputs": [
    {
     "data": {
      "text/html": [
       "<div>\n",
       "<style scoped>\n",
       "    .dataframe tbody tr th:only-of-type {\n",
       "        vertical-align: middle;\n",
       "    }\n",
       "\n",
       "    .dataframe tbody tr th {\n",
       "        vertical-align: top;\n",
       "    }\n",
       "\n",
       "    .dataframe thead th {\n",
       "        text-align: right;\n",
       "    }\n",
       "</style>\n",
       "<table border=\"1\" class=\"dataframe\">\n",
       "  <thead>\n",
       "    <tr style=\"text-align: right;\">\n",
       "      <th></th>\n",
       "      <th>depth</th>\n",
       "      <th>train</th>\n",
       "      <th>valid</th>\n",
       "      <th>baseline</th>\n",
       "    </tr>\n",
       "  </thead>\n",
       "  <tbody>\n",
       "    <tr>\n",
       "      <th>0</th>\n",
       "      <td>1</td>\n",
       "      <td>0.770968</td>\n",
       "      <td>0.652971</td>\n",
       "      <td>0.460741</td>\n",
       "    </tr>\n",
       "    <tr>\n",
       "      <th>1</th>\n",
       "      <td>2</td>\n",
       "      <td>0.831075</td>\n",
       "      <td>0.663317</td>\n",
       "      <td>0.460741</td>\n",
       "    </tr>\n",
       "    <tr>\n",
       "      <th>2</th>\n",
       "      <td>3</td>\n",
       "      <td>0.847151</td>\n",
       "      <td>0.639165</td>\n",
       "      <td>0.460741</td>\n",
       "    </tr>\n",
       "    <tr>\n",
       "      <th>3</th>\n",
       "      <td>4</td>\n",
       "      <td>0.864862</td>\n",
       "      <td>0.647533</td>\n",
       "      <td>0.460741</td>\n",
       "    </tr>\n",
       "    <tr>\n",
       "      <th>4</th>\n",
       "      <td>5</td>\n",
       "      <td>0.883501</td>\n",
       "      <td>0.652150</td>\n",
       "      <td>0.460741</td>\n",
       "    </tr>\n",
       "    <tr>\n",
       "      <th>5</th>\n",
       "      <td>6</td>\n",
       "      <td>0.904705</td>\n",
       "      <td>0.553110</td>\n",
       "      <td>0.460741</td>\n",
       "    </tr>\n",
       "    <tr>\n",
       "      <th>6</th>\n",
       "      <td>7</td>\n",
       "      <td>0.921715</td>\n",
       "      <td>0.552180</td>\n",
       "      <td>0.460741</td>\n",
       "    </tr>\n",
       "    <tr>\n",
       "      <th>7</th>\n",
       "      <td>8</td>\n",
       "      <td>0.934764</td>\n",
       "      <td>0.554040</td>\n",
       "      <td>0.460741</td>\n",
       "    </tr>\n",
       "    <tr>\n",
       "      <th>8</th>\n",
       "      <td>9</td>\n",
       "      <td>0.945717</td>\n",
       "      <td>0.558692</td>\n",
       "      <td>0.460741</td>\n",
       "    </tr>\n",
       "    <tr>\n",
       "      <th>9</th>\n",
       "      <td>10</td>\n",
       "      <td>0.959230</td>\n",
       "      <td>0.551198</td>\n",
       "      <td>0.460741</td>\n",
       "    </tr>\n",
       "    <tr>\n",
       "      <th>10</th>\n",
       "      <td>11</td>\n",
       "      <td>0.969016</td>\n",
       "      <td>0.551228</td>\n",
       "      <td>0.460741</td>\n",
       "    </tr>\n",
       "    <tr>\n",
       "      <th>11</th>\n",
       "      <td>12</td>\n",
       "      <td>0.974841</td>\n",
       "      <td>0.558666</td>\n",
       "      <td>0.460741</td>\n",
       "    </tr>\n",
       "    <tr>\n",
       "      <th>12</th>\n",
       "      <td>13</td>\n",
       "      <td>0.982063</td>\n",
       "      <td>0.562408</td>\n",
       "      <td>0.460741</td>\n",
       "    </tr>\n",
       "    <tr>\n",
       "      <th>13</th>\n",
       "      <td>14</td>\n",
       "      <td>0.986257</td>\n",
       "      <td>0.554953</td>\n",
       "      <td>0.460741</td>\n",
       "    </tr>\n",
       "    <tr>\n",
       "      <th>14</th>\n",
       "      <td>15</td>\n",
       "      <td>0.989051</td>\n",
       "      <td>0.549363</td>\n",
       "      <td>0.460741</td>\n",
       "    </tr>\n",
       "    <tr>\n",
       "      <th>15</th>\n",
       "      <td>16</td>\n",
       "      <td>0.993011</td>\n",
       "      <td>0.554027</td>\n",
       "      <td>0.460741</td>\n",
       "    </tr>\n",
       "    <tr>\n",
       "      <th>16</th>\n",
       "      <td>17</td>\n",
       "      <td>0.994641</td>\n",
       "      <td>0.555870</td>\n",
       "      <td>0.460741</td>\n",
       "    </tr>\n",
       "    <tr>\n",
       "      <th>17</th>\n",
       "      <td>18</td>\n",
       "      <td>0.996039</td>\n",
       "      <td>0.555857</td>\n",
       "      <td>0.460741</td>\n",
       "    </tr>\n",
       "    <tr>\n",
       "      <th>18</th>\n",
       "      <td>19</td>\n",
       "      <td>0.996971</td>\n",
       "      <td>0.550272</td>\n",
       "      <td>0.460741</td>\n",
       "    </tr>\n",
       "    <tr>\n",
       "      <th>19</th>\n",
       "      <td>20</td>\n",
       "      <td>0.999068</td>\n",
       "      <td>0.546538</td>\n",
       "      <td>0.460741</td>\n",
       "    </tr>\n",
       "  </tbody>\n",
       "</table>\n",
       "</div>"
      ],
      "text/plain": [
       "    depth     train     valid  baseline\n",
       "0       1  0.770968  0.652971  0.460741\n",
       "1       2  0.831075  0.663317  0.460741\n",
       "2       3  0.847151  0.639165  0.460741\n",
       "3       4  0.864862  0.647533  0.460741\n",
       "4       5  0.883501  0.652150  0.460741\n",
       "5       6  0.904705  0.553110  0.460741\n",
       "6       7  0.921715  0.552180  0.460741\n",
       "7       8  0.934764  0.554040  0.460741\n",
       "8       9  0.945717  0.558692  0.460741\n",
       "9      10  0.959230  0.551198  0.460741\n",
       "10     11  0.969016  0.551228  0.460741\n",
       "11     12  0.974841  0.558666  0.460741\n",
       "12     13  0.982063  0.562408  0.460741\n",
       "13     14  0.986257  0.554953  0.460741\n",
       "14     15  0.989051  0.549363  0.460741\n",
       "15     16  0.993011  0.554027  0.460741\n",
       "16     17  0.994641  0.555870  0.460741\n",
       "17     18  0.996039  0.555857  0.460741\n",
       "18     19  0.996971  0.550272  0.460741\n",
       "19     20  0.999068  0.546538  0.460741"
      ]
     },
     "execution_count": 19,
     "metadata": {},
     "output_type": "execute_result"
    }
   ],
   "source": [
    "results = pd.DataFrame()\n",
    "results['depth'] = parameters['max_depth']\n",
    "results['train'] = dtreeCV.cv_results_['mean_train_score'] # we need to set return_train_score=True to have this data\n",
    "results['valid'] = dtreeCV.cv_results_['mean_test_score']\n",
    "results['baseline'] = base_acc\n",
    "results"
   ]
  },
  {
   "cell_type": "code",
   "execution_count": 20,
   "id": "019500c8",
   "metadata": {},
   "outputs": [
    {
     "data": {
      "text/plain": [
       "<AxesSubplot:xlabel='depth'>"
      ]
     },
     "execution_count": 20,
     "metadata": {},
     "output_type": "execute_result"
    },
    {
     "data": {
      "image/png": "[encoded data removed]",
      "text/plain": [
       "<Figure size 640x480 with 1 Axes>"
      ]
     },
     "metadata": {},
     "output_type": "display_data"
    }
   ],
   "source": [
    "results.plot.line(x='depth', y = ['train','valid','baseline'])"
   ]
  },
  {
   "cell_type": "code",
   "execution_count": 21,
   "id": "2866d23a",
   "metadata": {},
   "outputs": [],
   "source": [
    "dtree = DecisionTreeClassifier(max_depth=2)"
   ]
  },
  {
   "cell_type": "code",
   "execution_count": 22,
   "id": "ae338dec",
   "metadata": {},
   "outputs": [
    {
     "data": {
      "text/html": [
       "<style>#sk-container-id-2 {color: black;background-color: white;}#sk-container-id-2 pre{padding: 0;}#sk-container-id-2 div.sk-toggleable {background-color: white;}#sk-container-id-2 label.sk-toggleable__label {cursor: pointer;display: block;width: 100%;margin-bottom: 0;padding: 0.3em;box-sizing: border-box;text-align: center;}#sk-container-id-2 label.sk-toggleable__label-arrow:before {content: \"▸\";float: left;margin-right: 0.25em;color: #696969;}#sk-container-id-2 label.sk-toggleable__label-arrow:hover:before {color: black;}#sk-container-id-2 div.sk-estimator:hover label.sk-toggleable__label-arrow:before {color: black;}#sk-container-id-2 div.sk-toggleable__content {max-height: 0;max-width: 0;overflow: hidden;text-align: left;background-color: #f0f8ff;}#sk-container-id-2 div.sk-toggleable__content pre {margin: 0.2em;color: black;border-radius: 0.25em;background-color: #f0f8ff;}#sk-container-id-2 input.sk-toggleable__control:checked~div.sk-toggleable__content {max-height: 200px;max-width: 100%;overflow: auto;}#sk-container-id-2 input.sk-toggleable__control:checked~label.sk-toggleable__label-arrow:before {content: \"▾\";}#sk-container-id-2 div.sk-estimator input.sk-toggleable__control:checked~label.sk-toggleable__label {background-color: #d4ebff;}#sk-container-id-2 div.sk-label input.sk-toggleable__control:checked~label.sk-toggleable__label {background-color: #d4ebff;}#sk-container-id-2 input.sk-hidden--visually {border: 0;clip: rect(1px 1px 1px 1px);clip: rect(1px, 1px, 1px, 1px);height: 1px;margin: -1px;overflow: hidden;padding: 0;position: absolute;width: 1px;}#sk-container-id-2 div.sk-estimator {font-family: monospace;background-color: #f0f8ff;border: 1px dotted black;border-radius: 0.25em;box-sizing: border-box;margin-bottom: 0.5em;}#sk-container-id-2 div.sk-estimator:hover {background-color: #d4ebff;}#sk-container-id-2 div.sk-parallel-item::after {content: \"\";width: 100%;border-bottom: 1px solid gray;flex-grow: 1;}#sk-container-id-2 div.sk-label:hover label.sk-toggleable__label {background-color: #d4ebff;}#sk-container-id-2 div.sk-serial::before {content: \"\";position: absolute;border-left: 1px solid gray;box-sizing: border-box;top: 0;bottom: 0;left: 50%;z-index: 0;}#sk-container-id-2 div.sk-serial {display: flex;flex-direction: column;align-items: center;background-color: white;padding-right: 0.2em;padding-left: 0.2em;position: relative;}#sk-container-id-2 div.sk-item {position: relative;z-index: 1;}#sk-container-id-2 div.sk-parallel {display: flex;align-items: stretch;justify-content: center;background-color: white;position: relative;}#sk-container-id-2 div.sk-item::before, #sk-container-id-2 div.sk-parallel-item::before {content: \"\";position: absolute;border-left: 1px solid gray;box-sizing: border-box;top: 0;bottom: 0;left: 50%;z-index: -1;}#sk-container-id-2 div.sk-parallel-item {display: flex;flex-direction: column;z-index: 1;position: relative;background-color: white;}#sk-container-id-2 div.sk-parallel-item:first-child::after {align-self: flex-end;width: 50%;}#sk-container-id-2 div.sk-parallel-item:last-child::after {align-self: flex-start;width: 50%;}#sk-container-id-2 div.sk-parallel-item:only-child::after {width: 0;}#sk-container-id-2 div.sk-dashed-wrapped {border: 1px dashed gray;margin: 0 0.4em 0.5em 0.4em;box-sizing: border-box;padding-bottom: 0.4em;background-color: white;}#sk-container-id-2 div.sk-label label {font-family: monospace;font-weight: bold;display: inline-block;line-height: 1.2em;}#sk-container-id-2 div.sk-label-container {text-align: center;}#sk-container-id-2 div.sk-container {/* jupyter's `normalize.less` sets `[hidden] { display: none; }` but bootstrap.min.css set `[hidden] { display: none !important; }` so we also need the `!important` here to be able to override the default hidden behavior on the sphinx rendered scikit-learn.org. See: https://github.com/scikit-learn/scikit-learn/issues/21755 */display: inline-block !important;position: relative;}#sk-container-id-2 div.sk-text-repr-fallback {display: none;}</style><div id=\"sk-container-id-2\" class=\"sk-top-container\"><div class=\"sk-text-repr-fallback\"><pre>DecisionTreeClassifier(max_depth=2)</pre><b>In a Jupyter environment, please rerun this cell to show the HTML representation or trust the notebook. <br />On GitHub, the HTML representation is unable to render, please try loading this page with nbviewer.org.</b></div><div class=\"sk-container\" hidden><div class=\"sk-item\"><div class=\"sk-estimator sk-toggleable\"><input class=\"sk-toggleable__control sk-hidden--visually\" id=\"sk-estimator-id-4\" type=\"checkbox\" checked><label for=\"sk-estimator-id-4\" class=\"sk-toggleable__label sk-toggleable__label-arrow\">DecisionTreeClassifier</label><div class=\"sk-toggleable__content\"><pre>DecisionTreeClassifier(max_depth=2)</pre></div></div></div></div></div>"
      ],
      "text/plain": [
       "DecisionTreeClassifier(max_depth=2)"
      ]
     },
     "execution_count": 22,
     "metadata": {},
     "output_type": "execute_result"
    }
   ],
   "source": [
    "dtree.fit(X_ohe,y)"
   ]
  },
  {
   "cell_type": "code",
   "execution_count": 23,
   "id": "d278542b",
   "metadata": {},
   "outputs": [
    {
     "name": "stdout",
     "output_type": "stream",
     "text": [
      "|----- int_overall_rating <= 70.5\n",
      "|     |----- int_overall_rating <= 65.5\n",
      "|     |     |----- class: L\n",
      "|     |----- int_overall_rating >  65.5\n",
      "|     |     |----- class: M\n",
      "|----- int_overall_rating >  70.5\n",
      "|     |----- int_team_id_86.0 <= 0.5\n",
      "|     |     |----- class: H\n",
      "|     |----- int_team_id_86.0 >  0.5\n",
      "|     |     |----- class: L\n",
      "\n"
     ]
    }
   ],
   "source": [
    "dtree_string = export_text(dtree,\n",
    "                           feature_names=list(X_ohe.columns),\n",
    "                           decimals=1,\n",
    "                           spacing=5)\n",
    "print(dtree_string)"
   ]
  },
  {
   "cell_type": "markdown",
   "id": "cd893ad4",
   "metadata": {},
   "source": [
    "Player of overall rating of bellow 65.5 have low wage, player of rating between 65.5 and 70.5 have median wage, player of rating above 70.5 have high wage, with the exception of those in team with id 86, they have low wage."
   ]
  },
  {
   "cell_type": "markdown",
   "id": "9f30de63",
   "metadata": {},
   "source": [
    "## Naive Bayes"
   ]
  },
  {
   "cell_type": "code",
   "execution_count": 24,
   "id": "6120c546",
   "metadata": {},
   "outputs": [],
   "source": [
    "grid = {'alpha':[0,0.1,0.2,0.3,0.4,0.5]}\n",
    "nbayes = MultinomialNB()\n",
    "nbayesCV = GridSearchCV(nbayes, param_grid = grid, return_train_score=True,n_jobs=-1)"
   ]
  },
  {
   "cell_type": "code",
   "execution_count": 25,
   "id": "d046467e",
   "metadata": {},
   "outputs": [
    {
     "name": "stderr",
     "output_type": "stream",
     "text": [
      "C:\\Users\\wangy51\\Anaconda3\\envs\\MA384\\lib\\site-packages\\sklearn\\naive_bayes.py:591: UserWarning: alpha too small will result in numeric errors, setting alpha = 1.0e-10\n",
      "  warnings.warn(\n"
     ]
    },
    {
     "data": {
      "text/html": [
       "<style>#sk-container-id-3 {color: black;background-color: white;}#sk-container-id-3 pre{padding: 0;}#sk-container-id-3 div.sk-toggleable {background-color: white;}#sk-container-id-3 label.sk-toggleable__label {cursor: pointer;display: block;width: 100%;margin-bottom: 0;padding: 0.3em;box-sizing: border-box;text-align: center;}#sk-container-id-3 label.sk-toggleable__label-arrow:before {content: \"▸\";float: left;margin-right: 0.25em;color: #696969;}#sk-container-id-3 label.sk-toggleable__label-arrow:hover:before {color: black;}#sk-container-id-3 div.sk-estimator:hover label.sk-toggleable__label-arrow:before {color: black;}#sk-container-id-3 div.sk-toggleable__content {max-height: 0;max-width: 0;overflow: hidden;text-align: left;background-color: #f0f8ff;}#sk-container-id-3 div.sk-toggleable__content pre {margin: 0.2em;color: black;border-radius: 0.25em;background-color: #f0f8ff;}#sk-container-id-3 input.sk-toggleable__control:checked~div.sk-toggleable__content {max-height: 200px;max-width: 100%;overflow: auto;}#sk-container-id-3 input.sk-toggleable__control:checked~label.sk-toggleable__label-arrow:before {content: \"▾\";}#sk-container-id-3 div.sk-estimator input.sk-toggleable__control:checked~label.sk-toggleable__label {background-color: #d4ebff;}#sk-container-id-3 div.sk-label input.sk-toggleable__control:checked~label.sk-toggleable__label {background-color: #d4ebff;}#sk-container-id-3 input.sk-hidden--visually {border: 0;clip: rect(1px 1px 1px 1px);clip: rect(1px, 1px, 1px, 1px);height: 1px;margin: -1px;overflow: hidden;padding: 0;position: absolute;width: 1px;}#sk-container-id-3 div.sk-estimator {font-family: monospace;background-color: #f0f8ff;border: 1px dotted black;border-radius: 0.25em;box-sizing: border-box;margin-bottom: 0.5em;}#sk-container-id-3 div.sk-estimator:hover {background-color: #d4ebff;}#sk-container-id-3 div.sk-parallel-item::after {content: \"\";width: 100%;border-bottom: 1px solid gray;flex-grow: 1;}#sk-container-id-3 div.sk-label:hover label.sk-toggleable__label {background-color: #d4ebff;}#sk-container-id-3 div.sk-serial::before {content: \"\";position: absolute;border-left: 1px solid gray;box-sizing: border-box;top: 0;bottom: 0;left: 50%;z-index: 0;}#sk-container-id-3 div.sk-serial {display: flex;flex-direction: column;align-items: center;background-color: white;padding-right: 0.2em;padding-left: 0.2em;position: relative;}#sk-container-id-3 div.sk-item {position: relative;z-index: 1;}#sk-container-id-3 div.sk-parallel {display: flex;align-items: stretch;justify-content: center;background-color: white;position: relative;}#sk-container-id-3 div.sk-item::before, #sk-container-id-3 div.sk-parallel-item::before {content: \"\";position: absolute;border-left: 1px solid gray;box-sizing: border-box;top: 0;bottom: 0;left: 50%;z-index: -1;}#sk-container-id-3 div.sk-parallel-item {display: flex;flex-direction: column;z-index: 1;position: relative;background-color: white;}#sk-container-id-3 div.sk-parallel-item:first-child::after {align-self: flex-end;width: 50%;}#sk-container-id-3 div.sk-parallel-item:last-child::after {align-self: flex-start;width: 50%;}#sk-container-id-3 div.sk-parallel-item:only-child::after {width: 0;}#sk-container-id-3 div.sk-dashed-wrapped {border: 1px dashed gray;margin: 0 0.4em 0.5em 0.4em;box-sizing: border-box;padding-bottom: 0.4em;background-color: white;}#sk-container-id-3 div.sk-label label {font-family: monospace;font-weight: bold;display: inline-block;line-height: 1.2em;}#sk-container-id-3 div.sk-label-container {text-align: center;}#sk-container-id-3 div.sk-container {/* jupyter's `normalize.less` sets `[hidden] { display: none; }` but bootstrap.min.css set `[hidden] { display: none !important; }` so we also need the `!important` here to be able to override the default hidden behavior on the sphinx rendered scikit-learn.org. See: https://github.com/scikit-learn/scikit-learn/issues/21755 */display: inline-block !important;position: relative;}#sk-container-id-3 div.sk-text-repr-fallback {display: none;}</style><div id=\"sk-container-id-3\" class=\"sk-top-container\"><div class=\"sk-text-repr-fallback\"><pre>GridSearchCV(estimator=MultinomialNB(), n_jobs=-1,\n",
       "             param_grid={&#x27;alpha&#x27;: [0, 0.1, 0.2, 0.3, 0.4, 0.5]},\n",
       "             return_train_score=True)</pre><b>In a Jupyter environment, please rerun this cell to show the HTML representation or trust the notebook. <br />On GitHub, the HTML representation is unable to render, please try loading this page with nbviewer.org.</b></div><div class=\"sk-container\" hidden><div class=\"sk-item sk-dashed-wrapped\"><div class=\"sk-label-container\"><div class=\"sk-label sk-toggleable\"><input class=\"sk-toggleable__control sk-hidden--visually\" id=\"sk-estimator-id-5\" type=\"checkbox\" ><label for=\"sk-estimator-id-5\" class=\"sk-toggleable__label sk-toggleable__label-arrow\">GridSearchCV</label><div class=\"sk-toggleable__content\"><pre>GridSearchCV(estimator=MultinomialNB(), n_jobs=-1,\n",
       "             param_grid={&#x27;alpha&#x27;: [0, 0.1, 0.2, 0.3, 0.4, 0.5]},\n",
       "             return_train_score=True)</pre></div></div></div><div class=\"sk-parallel\"><div class=\"sk-parallel-item\"><div class=\"sk-item\"><div class=\"sk-label-container\"><div class=\"sk-label sk-toggleable\"><input class=\"sk-toggleable__control sk-hidden--visually\" id=\"sk-estimator-id-6\" type=\"checkbox\" ><label for=\"sk-estimator-id-6\" class=\"sk-toggleable__label sk-toggleable__label-arrow\">estimator: MultinomialNB</label><div class=\"sk-toggleable__content\"><pre>MultinomialNB()</pre></div></div></div><div class=\"sk-serial\"><div class=\"sk-item\"><div class=\"sk-estimator sk-toggleable\"><input class=\"sk-toggleable__control sk-hidden--visually\" id=\"sk-estimator-id-7\" type=\"checkbox\" ><label for=\"sk-estimator-id-7\" class=\"sk-toggleable__label sk-toggleable__label-arrow\">MultinomialNB</label><div class=\"sk-toggleable__content\"><pre>MultinomialNB()</pre></div></div></div></div></div></div></div></div></div></div>"
      ],
      "text/plain": [
       "GridSearchCV(estimator=MultinomialNB(), n_jobs=-1,\n",
       "             param_grid={'alpha': [0, 0.1, 0.2, 0.3, 0.4, 0.5]},\n",
       "             return_train_score=True)"
      ]
     },
     "execution_count": 25,
     "metadata": {},
     "output_type": "execute_result"
    }
   ],
   "source": [
    "nbayesCV.fit(X_ohe,y)"
   ]
  },
  {
   "cell_type": "code",
   "execution_count": 26,
   "id": "5bf2b72c",
   "metadata": {},
   "outputs": [
    {
     "data": {
      "text/html": [
       "<div>\n",
       "<style scoped>\n",
       "    .dataframe tbody tr th:only-of-type {\n",
       "        vertical-align: middle;\n",
       "    }\n",
       "\n",
       "    .dataframe tbody tr th {\n",
       "        vertical-align: top;\n",
       "    }\n",
       "\n",
       "    .dataframe thead th {\n",
       "        text-align: right;\n",
       "    }\n",
       "</style>\n",
       "<table border=\"1\" class=\"dataframe\">\n",
       "  <thead>\n",
       "    <tr style=\"text-align: right;\">\n",
       "      <th></th>\n",
       "      <th>alpha</th>\n",
       "      <th>train</th>\n",
       "      <th>valid</th>\n",
       "      <th>baseline</th>\n",
       "    </tr>\n",
       "  </thead>\n",
       "  <tbody>\n",
       "    <tr>\n",
       "      <th>0</th>\n",
       "      <td>0.0</td>\n",
       "      <td>0.602964</td>\n",
       "      <td>0.563208</td>\n",
       "      <td>0.460741</td>\n",
       "    </tr>\n",
       "    <tr>\n",
       "      <th>1</th>\n",
       "      <td>0.1</td>\n",
       "      <td>0.595508</td>\n",
       "      <td>0.562278</td>\n",
       "      <td>0.460741</td>\n",
       "    </tr>\n",
       "    <tr>\n",
       "      <th>2</th>\n",
       "      <td>0.2</td>\n",
       "      <td>0.595740</td>\n",
       "      <td>0.562278</td>\n",
       "      <td>0.460741</td>\n",
       "    </tr>\n",
       "    <tr>\n",
       "      <th>3</th>\n",
       "      <td>0.3</td>\n",
       "      <td>0.595740</td>\n",
       "      <td>0.562278</td>\n",
       "      <td>0.460741</td>\n",
       "    </tr>\n",
       "    <tr>\n",
       "      <th>4</th>\n",
       "      <td>0.4</td>\n",
       "      <td>0.596206</td>\n",
       "      <td>0.563208</td>\n",
       "      <td>0.460741</td>\n",
       "    </tr>\n",
       "    <tr>\n",
       "      <th>5</th>\n",
       "      <td>0.5</td>\n",
       "      <td>0.596439</td>\n",
       "      <td>0.563208</td>\n",
       "      <td>0.460741</td>\n",
       "    </tr>\n",
       "  </tbody>\n",
       "</table>\n",
       "</div>"
      ],
      "text/plain": [
       "   alpha     train     valid  baseline\n",
       "0    0.0  0.602964  0.563208  0.460741\n",
       "1    0.1  0.595508  0.562278  0.460741\n",
       "2    0.2  0.595740  0.562278  0.460741\n",
       "3    0.3  0.595740  0.562278  0.460741\n",
       "4    0.4  0.596206  0.563208  0.460741\n",
       "5    0.5  0.596439  0.563208  0.460741"
      ]
     },
     "execution_count": 26,
     "metadata": {},
     "output_type": "execute_result"
    }
   ],
   "source": [
    "results = pd.DataFrame()\n",
    "results['alpha'] = grid['alpha']\n",
    "results['train'] = nbayesCV.cv_results_['mean_train_score']\n",
    "results['valid'] = nbayesCV.cv_results_['mean_test_score']\n",
    "results['baseline'] = base_acc\n",
    "results"
   ]
  },
  {
   "cell_type": "code",
   "execution_count": 27,
   "id": "583e8638",
   "metadata": {},
   "outputs": [
    {
     "data": {
      "text/plain": [
       "<AxesSubplot:xlabel='alpha'>"
      ]
     },
     "execution_count": 27,
     "metadata": {},
     "output_type": "execute_result"
    },
    {
     "data": {
      "image/png": "[encoded data removed]",
      "text/plain": [
       "<Figure size 640x480 with 1 Axes>"
      ]
     },
     "metadata": {},
     "output_type": "display_data"
    }
   ],
   "source": [
    "results.plot.line(x='alpha', y = ['train','valid','baseline'])"
   ]
  },
  {
   "cell_type": "code",
   "execution_count": 28,
   "id": "563d874e",
   "metadata": {},
   "outputs": [
    {
     "data": {
      "text/plain": [
       "0.5632079982612475"
      ]
     },
     "execution_count": 28,
     "metadata": {},
     "output_type": "execute_result"
    }
   ],
   "source": [
    "nbayesCV.best_score_"
   ]
  },
  {
   "cell_type": "code",
   "execution_count": 29,
   "id": "5a6cde4f",
   "metadata": {},
   "outputs": [
    {
     "data": {
      "text/plain": [
       "{'alpha': 0}"
      ]
     },
     "execution_count": 29,
     "metadata": {},
     "output_type": "execute_result"
    }
   ],
   "source": [
    "nbayesCV.best_params_"
   ]
  },
  {
   "cell_type": "code",
   "execution_count": 30,
   "id": "f031250b",
   "metadata": {},
   "outputs": [],
   "source": [
    "nbayes_best = MultinomialNB(alpha=0)"
   ]
  },
  {
   "cell_type": "code",
   "execution_count": 31,
   "id": "9e16e1fa",
   "metadata": {},
   "outputs": [
    {
     "name": "stderr",
     "output_type": "stream",
     "text": [
      "C:\\Users\\wangy51\\Anaconda3\\envs\\MA384\\lib\\site-packages\\sklearn\\naive_bayes.py:591: UserWarning: alpha too small will result in numeric errors, setting alpha = 1.0e-10\n",
      "  warnings.warn(\n"
     ]
    },
    {
     "data": {
      "text/html": [
       "<style>#sk-container-id-4 {color: black;background-color: white;}#sk-container-id-4 pre{padding: 0;}#sk-container-id-4 div.sk-toggleable {background-color: white;}#sk-container-id-4 label.sk-toggleable__label {cursor: pointer;display: block;width: 100%;margin-bottom: 0;padding: 0.3em;box-sizing: border-box;text-align: center;}#sk-container-id-4 label.sk-toggleable__label-arrow:before {content: \"▸\";float: left;margin-right: 0.25em;color: #696969;}#sk-container-id-4 label.sk-toggleable__label-arrow:hover:before {color: black;}#sk-container-id-4 div.sk-estimator:hover label.sk-toggleable__label-arrow:before {color: black;}#sk-container-id-4 div.sk-toggleable__content {max-height: 0;max-width: 0;overflow: hidden;text-align: left;background-color: #f0f8ff;}#sk-container-id-4 div.sk-toggleable__content pre {margin: 0.2em;color: black;border-radius: 0.25em;background-color: #f0f8ff;}#sk-container-id-4 input.sk-toggleable__control:checked~div.sk-toggleable__content {max-height: 200px;max-width: 100%;overflow: auto;}#sk-container-id-4 input.sk-toggleable__control:checked~label.sk-toggleable__label-arrow:before {content: \"▾\";}#sk-container-id-4 div.sk-estimator input.sk-toggleable__control:checked~label.sk-toggleable__label {background-color: #d4ebff;}#sk-container-id-4 div.sk-label input.sk-toggleable__control:checked~label.sk-toggleable__label {background-color: #d4ebff;}#sk-container-id-4 input.sk-hidden--visually {border: 0;clip: rect(1px 1px 1px 1px);clip: rect(1px, 1px, 1px, 1px);height: 1px;margin: -1px;overflow: hidden;padding: 0;position: absolute;width: 1px;}#sk-container-id-4 div.sk-estimator {font-family: monospace;background-color: #f0f8ff;border: 1px dotted black;border-radius: 0.25em;box-sizing: border-box;margin-bottom: 0.5em;}#sk-container-id-4 div.sk-estimator:hover {background-color: #d4ebff;}#sk-container-id-4 div.sk-parallel-item::after {content: \"\";width: 100%;border-bottom: 1px solid gray;flex-grow: 1;}#sk-container-id-4 div.sk-label:hover label.sk-toggleable__label {background-color: #d4ebff;}#sk-container-id-4 div.sk-serial::before {content: \"\";position: absolute;border-left: 1px solid gray;box-sizing: border-box;top: 0;bottom: 0;left: 50%;z-index: 0;}#sk-container-id-4 div.sk-serial {display: flex;flex-direction: column;align-items: center;background-color: white;padding-right: 0.2em;padding-left: 0.2em;position: relative;}#sk-container-id-4 div.sk-item {position: relative;z-index: 1;}#sk-container-id-4 div.sk-parallel {display: flex;align-items: stretch;justify-content: center;background-color: white;position: relative;}#sk-container-id-4 div.sk-item::before, #sk-container-id-4 div.sk-parallel-item::before {content: \"\";position: absolute;border-left: 1px solid gray;box-sizing: border-box;top: 0;bottom: 0;left: 50%;z-index: -1;}#sk-container-id-4 div.sk-parallel-item {display: flex;flex-direction: column;z-index: 1;position: relative;background-color: white;}#sk-container-id-4 div.sk-parallel-item:first-child::after {align-self: flex-end;width: 50%;}#sk-container-id-4 div.sk-parallel-item:last-child::after {align-self: flex-start;width: 50%;}#sk-container-id-4 div.sk-parallel-item:only-child::after {width: 0;}#sk-container-id-4 div.sk-dashed-wrapped {border: 1px dashed gray;margin: 0 0.4em 0.5em 0.4em;box-sizing: border-box;padding-bottom: 0.4em;background-color: white;}#sk-container-id-4 div.sk-label label {font-family: monospace;font-weight: bold;display: inline-block;line-height: 1.2em;}#sk-container-id-4 div.sk-label-container {text-align: center;}#sk-container-id-4 div.sk-container {/* jupyter's `normalize.less` sets `[hidden] { display: none; }` but bootstrap.min.css set `[hidden] { display: none !important; }` so we also need the `!important` here to be able to override the default hidden behavior on the sphinx rendered scikit-learn.org. See: https://github.com/scikit-learn/scikit-learn/issues/21755 */display: inline-block !important;position: relative;}#sk-container-id-4 div.sk-text-repr-fallback {display: none;}</style><div id=\"sk-container-id-4\" class=\"sk-top-container\"><div class=\"sk-text-repr-fallback\"><pre>MultinomialNB(alpha=0)</pre><b>In a Jupyter environment, please rerun this cell to show the HTML representation or trust the notebook. <br />On GitHub, the HTML representation is unable to render, please try loading this page with nbviewer.org.</b></div><div class=\"sk-container\" hidden><div class=\"sk-item\"><div class=\"sk-estimator sk-toggleable\"><input class=\"sk-toggleable__control sk-hidden--visually\" id=\"sk-estimator-id-8\" type=\"checkbox\" checked><label for=\"sk-estimator-id-8\" class=\"sk-toggleable__label sk-toggleable__label-arrow\">MultinomialNB</label><div class=\"sk-toggleable__content\"><pre>MultinomialNB(alpha=0)</pre></div></div></div></div></div>"
      ],
      "text/plain": [
       "MultinomialNB(alpha=0)"
      ]
     },
     "execution_count": 31,
     "metadata": {},
     "output_type": "execute_result"
    }
   ],
   "source": [
    "nbayes_best.fit(X_ohe,y)"
   ]
  },
  {
   "cell_type": "markdown",
   "id": "04311cc9",
   "metadata": {},
   "source": [
    "## Decision Tree (2 category)"
   ]
  },
  {
   "cell_type": "code",
   "execution_count": 34,
   "id": "c1f46d12",
   "metadata": {},
   "outputs": [
    {
     "data": {
      "text/html": [
       "<div>\n",
       "<style scoped>\n",
       "    .dataframe tbody tr th:only-of-type {\n",
       "        vertical-align: middle;\n",
       "    }\n",
       "\n",
       "    .dataframe tbody tr th {\n",
       "        vertical-align: top;\n",
       "    }\n",
       "\n",
       "    .dataframe thead th {\n",
       "        text-align: right;\n",
       "    }\n",
       "</style>\n",
       "<table border=\"1\" class=\"dataframe\">\n",
       "  <thead>\n",
       "    <tr style=\"text-align: right;\">\n",
       "      <th></th>\n",
       "      <th>int_player_id</th>\n",
       "      <th>str_player_name</th>\n",
       "      <th>str_positions</th>\n",
       "      <th>dt_date_of_birth</th>\n",
       "      <th>int_height</th>\n",
       "      <th>int_weight</th>\n",
       "      <th>int_overall_rating</th>\n",
       "      <th>int_potential_rating</th>\n",
       "      <th>str_best_position</th>\n",
       "      <th>int_best_overall_rating</th>\n",
       "      <th>...</th>\n",
       "      <th>int_international_reputations</th>\n",
       "      <th>str_work_rate</th>\n",
       "      <th>str_body_type</th>\n",
       "      <th>int_dribbling</th>\n",
       "      <th>int_curve</th>\n",
       "      <th>int_fk_accuracy</th>\n",
       "      <th>int_long_passing</th>\n",
       "      <th>int_ball_control</th>\n",
       "      <th>str_player_speciality</th>\n",
       "      <th>str_trait</th>\n",
       "    </tr>\n",
       "  </thead>\n",
       "  <tbody>\n",
       "    <tr>\n",
       "      <th>0</th>\n",
       "      <td>1</td>\n",
       "      <td>Lionel Andrés Messi Cuccittini</td>\n",
       "      <td>RW, ST, CF</td>\n",
       "      <td>1987-06-24</td>\n",
       "      <td>170</td>\n",
       "      <td>72</td>\n",
       "      <td>93</td>\n",
       "      <td>93</td>\n",
       "      <td>RW</td>\n",
       "      <td>93</td>\n",
       "      <td>...</td>\n",
       "      <td>5</td>\n",
       "      <td>Medium/ Low</td>\n",
       "      <td>Unique</td>\n",
       "      <td>96</td>\n",
       "      <td>93</td>\n",
       "      <td>94</td>\n",
       "      <td>91</td>\n",
       "      <td>96</td>\n",
       "      <td>['Dribbler', 'Distance Shooter', 'FK Specialis...</td>\n",
       "      <td>['Finesse Shot', 'Long Shot Taker (AI)', 'Spee...</td>\n",
       "    </tr>\n",
       "    <tr>\n",
       "      <th>1</th>\n",
       "      <td>2</td>\n",
       "      <td>Cristiano Ronaldo dos Santos Aveiro</td>\n",
       "      <td>ST, LW</td>\n",
       "      <td>1985-02-05</td>\n",
       "      <td>187</td>\n",
       "      <td>83</td>\n",
       "      <td>92</td>\n",
       "      <td>92</td>\n",
       "      <td>ST</td>\n",
       "      <td>92</td>\n",
       "      <td>...</td>\n",
       "      <td>5</td>\n",
       "      <td>High/ Low</td>\n",
       "      <td>Unique</td>\n",
       "      <td>88</td>\n",
       "      <td>81</td>\n",
       "      <td>76</td>\n",
       "      <td>77</td>\n",
       "      <td>92</td>\n",
       "      <td>['Aerial Threat', 'Dribbler', 'Distance Shoote...</td>\n",
       "      <td>['Power Free-Kick', 'Flair', 'Long Shot Taker ...</td>\n",
       "    </tr>\n",
       "    <tr>\n",
       "      <th>2</th>\n",
       "      <td>3</td>\n",
       "      <td>Jan Oblak</td>\n",
       "      <td>GK</td>\n",
       "      <td>1993-01-07</td>\n",
       "      <td>188</td>\n",
       "      <td>87</td>\n",
       "      <td>91</td>\n",
       "      <td>93</td>\n",
       "      <td>GK</td>\n",
       "      <td>91</td>\n",
       "      <td>...</td>\n",
       "      <td>3</td>\n",
       "      <td>Medium/ Medium</td>\n",
       "      <td>Unique</td>\n",
       "      <td>12</td>\n",
       "      <td>13</td>\n",
       "      <td>14</td>\n",
       "      <td>40</td>\n",
       "      <td>30</td>\n",
       "      <td>NaN</td>\n",
       "      <td>['GK Long Throw', 'Comes For Crosses']</td>\n",
       "    </tr>\n",
       "  </tbody>\n",
       "</table>\n",
       "<p>3 rows × 56 columns</p>\n",
       "</div>"
      ],
      "text/plain": [
       "   int_player_id                      str_player_name str_positions  \\\n",
       "0              1       Lionel Andrés Messi Cuccittini    RW, ST, CF   \n",
       "1              2  Cristiano Ronaldo dos Santos Aveiro        ST, LW   \n",
       "2              3                            Jan Oblak            GK   \n",
       "\n",
       "  dt_date_of_birth  int_height  int_weight  int_overall_rating  \\\n",
       "0       1987-06-24         170          72                  93   \n",
       "1       1985-02-05         187          83                  92   \n",
       "2       1993-01-07         188          87                  91   \n",
       "\n",
       "   int_potential_rating str_best_position  int_best_overall_rating  ...  \\\n",
       "0                    93                RW                       93  ...   \n",
       "1                    92                ST                       92  ...   \n",
       "2                    93                GK                       91  ...   \n",
       "\n",
       "   int_international_reputations   str_work_rate  str_body_type int_dribbling  \\\n",
       "0                              5     Medium/ Low         Unique            96   \n",
       "1                              5       High/ Low         Unique            88   \n",
       "2                              3  Medium/ Medium         Unique            12   \n",
       "\n",
       "   int_curve  int_fk_accuracy  int_long_passing  int_ball_control  \\\n",
       "0         93               94                91                96   \n",
       "1         81               76                77                92   \n",
       "2         13               14                40                30   \n",
       "\n",
       "                               str_player_speciality  \\\n",
       "0  ['Dribbler', 'Distance Shooter', 'FK Specialis...   \n",
       "1  ['Aerial Threat', 'Dribbler', 'Distance Shoote...   \n",
       "2                                                NaN   \n",
       "\n",
       "                                           str_trait  \n",
       "0  ['Finesse Shot', 'Long Shot Taker (AI)', 'Spee...  \n",
       "1  ['Power Free-Kick', 'Flair', 'Long Shot Taker ...  \n",
       "2             ['GK Long Throw', 'Comes For Crosses']  \n",
       "\n",
       "[3 rows x 56 columns]"
      ]
     },
     "execution_count": 34,
     "metadata": {},
     "output_type": "execute_result"
    }
   ],
   "source": [
    "df = pd.read_csv(\"C:/Users/wangy51/Documents/Rose-Hulman/2022 Winter/MA384/project/archive/players.csv\")\n",
    "df.head(3)"
   ]
  },
  {
   "cell_type": "code",
   "execution_count": 35,
   "id": "b2fbe0cd",
   "metadata": {},
   "outputs": [
    {
     "data": {
      "text/html": [
       "<div>\n",
       "<style scoped>\n",
       "    .dataframe tbody tr th:only-of-type {\n",
       "        vertical-align: middle;\n",
       "    }\n",
       "\n",
       "    .dataframe tbody tr th {\n",
       "        vertical-align: top;\n",
       "    }\n",
       "\n",
       "    .dataframe thead th {\n",
       "        text-align: right;\n",
       "    }\n",
       "</style>\n",
       "<table border=\"1\" class=\"dataframe\">\n",
       "  <thead>\n",
       "    <tr style=\"text-align: right;\">\n",
       "      <th></th>\n",
       "      <th>int_player_id</th>\n",
       "      <th>str_player_name</th>\n",
       "      <th>str_positions</th>\n",
       "      <th>dt_date_of_birth</th>\n",
       "      <th>int_height</th>\n",
       "      <th>int_weight</th>\n",
       "      <th>int_overall_rating</th>\n",
       "      <th>int_potential_rating</th>\n",
       "      <th>str_best_position</th>\n",
       "      <th>int_best_overall_rating</th>\n",
       "      <th>...</th>\n",
       "      <th>str_work_rate</th>\n",
       "      <th>str_body_type</th>\n",
       "      <th>int_dribbling</th>\n",
       "      <th>int_curve</th>\n",
       "      <th>int_fk_accuracy</th>\n",
       "      <th>int_long_passing</th>\n",
       "      <th>int_ball_control</th>\n",
       "      <th>str_player_speciality</th>\n",
       "      <th>str_trait</th>\n",
       "      <th>salary_rank</th>\n",
       "    </tr>\n",
       "  </thead>\n",
       "  <tbody>\n",
       "    <tr>\n",
       "      <th>0</th>\n",
       "      <td>1</td>\n",
       "      <td>Lionel Andrés Messi Cuccittini</td>\n",
       "      <td>RW, ST, CF</td>\n",
       "      <td>1987-06-24</td>\n",
       "      <td>170</td>\n",
       "      <td>72</td>\n",
       "      <td>93</td>\n",
       "      <td>93</td>\n",
       "      <td>RW</td>\n",
       "      <td>93</td>\n",
       "      <td>...</td>\n",
       "      <td>Medium/ Low</td>\n",
       "      <td>Unique</td>\n",
       "      <td>96</td>\n",
       "      <td>93</td>\n",
       "      <td>94</td>\n",
       "      <td>91</td>\n",
       "      <td>96</td>\n",
       "      <td>['Dribbler', 'Distance Shooter', 'FK Specialis...</td>\n",
       "      <td>['Finesse Shot', 'Long Shot Taker (AI)', 'Spee...</td>\n",
       "      <td>H</td>\n",
       "    </tr>\n",
       "    <tr>\n",
       "      <th>1</th>\n",
       "      <td>2</td>\n",
       "      <td>Cristiano Ronaldo dos Santos Aveiro</td>\n",
       "      <td>ST, LW</td>\n",
       "      <td>1985-02-05</td>\n",
       "      <td>187</td>\n",
       "      <td>83</td>\n",
       "      <td>92</td>\n",
       "      <td>92</td>\n",
       "      <td>ST</td>\n",
       "      <td>92</td>\n",
       "      <td>...</td>\n",
       "      <td>High/ Low</td>\n",
       "      <td>Unique</td>\n",
       "      <td>88</td>\n",
       "      <td>81</td>\n",
       "      <td>76</td>\n",
       "      <td>77</td>\n",
       "      <td>92</td>\n",
       "      <td>['Aerial Threat', 'Dribbler', 'Distance Shoote...</td>\n",
       "      <td>['Power Free-Kick', 'Flair', 'Long Shot Taker ...</td>\n",
       "      <td>H</td>\n",
       "    </tr>\n",
       "    <tr>\n",
       "      <th>2</th>\n",
       "      <td>3</td>\n",
       "      <td>Jan Oblak</td>\n",
       "      <td>GK</td>\n",
       "      <td>1993-01-07</td>\n",
       "      <td>188</td>\n",
       "      <td>87</td>\n",
       "      <td>91</td>\n",
       "      <td>93</td>\n",
       "      <td>GK</td>\n",
       "      <td>91</td>\n",
       "      <td>...</td>\n",
       "      <td>Medium/ Medium</td>\n",
       "      <td>Unique</td>\n",
       "      <td>12</td>\n",
       "      <td>13</td>\n",
       "      <td>14</td>\n",
       "      <td>40</td>\n",
       "      <td>30</td>\n",
       "      <td>NaN</td>\n",
       "      <td>['GK Long Throw', 'Comes For Crosses']</td>\n",
       "      <td>H</td>\n",
       "    </tr>\n",
       "  </tbody>\n",
       "</table>\n",
       "<p>3 rows × 57 columns</p>\n",
       "</div>"
      ],
      "text/plain": [
       "   int_player_id                      str_player_name str_positions  \\\n",
       "0              1       Lionel Andrés Messi Cuccittini    RW, ST, CF   \n",
       "1              2  Cristiano Ronaldo dos Santos Aveiro        ST, LW   \n",
       "2              3                            Jan Oblak            GK   \n",
       "\n",
       "  dt_date_of_birth  int_height  int_weight  int_overall_rating  \\\n",
       "0       1987-06-24         170          72                  93   \n",
       "1       1985-02-05         187          83                  92   \n",
       "2       1993-01-07         188          87                  91   \n",
       "\n",
       "   int_potential_rating str_best_position  int_best_overall_rating  ...  \\\n",
       "0                    93                RW                       93  ...   \n",
       "1                    92                ST                       92  ...   \n",
       "2                    93                GK                       91  ...   \n",
       "\n",
       "    str_work_rate  str_body_type  int_dribbling int_curve  int_fk_accuracy  \\\n",
       "0     Medium/ Low         Unique             96        93               94   \n",
       "1       High/ Low         Unique             88        81               76   \n",
       "2  Medium/ Medium         Unique             12        13               14   \n",
       "\n",
       "   int_long_passing  int_ball_control  \\\n",
       "0                91                96   \n",
       "1                77                92   \n",
       "2                40                30   \n",
       "\n",
       "                               str_player_speciality  \\\n",
       "0  ['Dribbler', 'Distance Shooter', 'FK Specialis...   \n",
       "1  ['Aerial Threat', 'Dribbler', 'Distance Shoote...   \n",
       "2                                                NaN   \n",
       "\n",
       "                                           str_trait  salary_rank  \n",
       "0  ['Finesse Shot', 'Long Shot Taker (AI)', 'Spee...            H  \n",
       "1  ['Power Free-Kick', 'Flair', 'Long Shot Taker ...            H  \n",
       "2             ['GK Long Throw', 'Comes For Crosses']            H  \n",
       "\n",
       "[3 rows x 57 columns]"
      ]
     },
     "execution_count": 35,
     "metadata": {},
     "output_type": "execute_result"
    }
   ],
   "source": [
    "df['salary_rank'] = pd.qcut(df['int_wage'],q=2,labels=['L','H'])\n",
    "df.head(3)"
   ]
  },
  {
   "cell_type": "code",
   "execution_count": 36,
   "id": "41eb7a23",
   "metadata": {},
   "outputs": [
    {
     "data": {
      "text/plain": [
       "L    10575\n",
       "H     8427\n",
       "Name: salary_rank, dtype: int64"
      ]
     },
     "execution_count": 36,
     "metadata": {},
     "output_type": "execute_result"
    }
   ],
   "source": [
    "df['salary_rank'].value_counts()"
   ]
  },
  {
   "cell_type": "code",
   "execution_count": 38,
   "id": "5355d58a",
   "metadata": {},
   "outputs": [
    {
     "data": {
      "text/plain": [
       "0.556520366277234"
      ]
     },
     "execution_count": 38,
     "metadata": {},
     "output_type": "execute_result"
    }
   ],
   "source": [
    "base_acc = 10575/(10575+8427)\n",
    "base_acc"
   ]
  },
  {
   "cell_type": "code",
   "execution_count": 39,
   "id": "caa4e5ae",
   "metadata": {},
   "outputs": [],
   "source": [
    "df['salary_rank'] = df['salary_rank'].astype('category')\n",
    "df['str_positions'] = df['str_positions'].astype('category')\n",
    "df['str_best_position'] = df['str_best_position'].astype('category')\n",
    "df['str_nationality'] = df['str_nationality'].astype('category')\n",
    "df['str_preferred_foot'] = df['str_preferred_foot'].astype('category')\n",
    "df['str_trait'] = df['str_trait'].astype('category')\n",
    "df['str_player_speciality'] = df['str_player_speciality'].astype('category')\n",
    "df['str_body_type'] = df['str_body_type'].astype('category')\n",
    "df['str_work_rate'] = df['str_work_rate'].astype('category')\n",
    "df['int_team_id'] = df['int_team_id'].astype('category')\n",
    "df['int_player_age'] = date.today().year - pd.DatetimeIndex(pd.to_datetime(df['dt_date_of_birth'])).year"
   ]
  },
  {
   "cell_type": "code",
   "execution_count": 40,
   "id": "f9cac423",
   "metadata": {},
   "outputs": [],
   "source": [
    "df=df.dropna()"
   ]
  },
  {
   "cell_type": "code",
   "execution_count": 41,
   "id": "d3a67284",
   "metadata": {},
   "outputs": [],
   "source": [
    "X = df.drop(['salary_rank','int_player_id','str_player_name','int_wage','dt_date_of_birth','str_trait','int_player_age'],axis=1)\n",
    "y = df.salary_rank"
   ]
  },
  {
   "cell_type": "code",
   "execution_count": 42,
   "id": "c733f4cf",
   "metadata": {},
   "outputs": [],
   "source": [
    "X_ohe = pd.get_dummies(X)"
   ]
  },
  {
   "cell_type": "code",
   "execution_count": 43,
   "id": "33952bf1",
   "metadata": {},
   "outputs": [],
   "source": [
    "dtree = DecisionTreeClassifier()\n",
    "parameters = {'max_depth': [1,2,3,4,5,6,7,8,9,10,11,12,13,14,15,16,17,18,19,20]}\n",
    "dtreeCV = GridSearchCV(dtree,param_grid=parameters,return_train_score=True,n_jobs=-1)"
   ]
  },
  {
   "cell_type": "code",
   "execution_count": 44,
   "id": "227677b7",
   "metadata": {},
   "outputs": [
    {
     "data": {
      "text/html": [
       "<style>#sk-container-id-5 {color: black;background-color: white;}#sk-container-id-5 pre{padding: 0;}#sk-container-id-5 div.sk-toggleable {background-color: white;}#sk-container-id-5 label.sk-toggleable__label {cursor: pointer;display: block;width: 100%;margin-bottom: 0;padding: 0.3em;box-sizing: border-box;text-align: center;}#sk-container-id-5 label.sk-toggleable__label-arrow:before {content: \"▸\";float: left;margin-right: 0.25em;color: #696969;}#sk-container-id-5 label.sk-toggleable__label-arrow:hover:before {color: black;}#sk-container-id-5 div.sk-estimator:hover label.sk-toggleable__label-arrow:before {color: black;}#sk-container-id-5 div.sk-toggleable__content {max-height: 0;max-width: 0;overflow: hidden;text-align: left;background-color: #f0f8ff;}#sk-container-id-5 div.sk-toggleable__content pre {margin: 0.2em;color: black;border-radius: 0.25em;background-color: #f0f8ff;}#sk-container-id-5 input.sk-toggleable__control:checked~div.sk-toggleable__content {max-height: 200px;max-width: 100%;overflow: auto;}#sk-container-id-5 input.sk-toggleable__control:checked~label.sk-toggleable__label-arrow:before {content: \"▾\";}#sk-container-id-5 div.sk-estimator input.sk-toggleable__control:checked~label.sk-toggleable__label {background-color: #d4ebff;}#sk-container-id-5 div.sk-label input.sk-toggleable__control:checked~label.sk-toggleable__label {background-color: #d4ebff;}#sk-container-id-5 input.sk-hidden--visually {border: 0;clip: rect(1px 1px 1px 1px);clip: rect(1px, 1px, 1px, 1px);height: 1px;margin: -1px;overflow: hidden;padding: 0;position: absolute;width: 1px;}#sk-container-id-5 div.sk-estimator {font-family: monospace;background-color: #f0f8ff;border: 1px dotted black;border-radius: 0.25em;box-sizing: border-box;margin-bottom: 0.5em;}#sk-container-id-5 div.sk-estimator:hover {background-color: #d4ebff;}#sk-container-id-5 div.sk-parallel-item::after {content: \"\";width: 100%;border-bottom: 1px solid gray;flex-grow: 1;}#sk-container-id-5 div.sk-label:hover label.sk-toggleable__label {background-color: #d4ebff;}#sk-container-id-5 div.sk-serial::before {content: \"\";position: absolute;border-left: 1px solid gray;box-sizing: border-box;top: 0;bottom: 0;left: 50%;z-index: 0;}#sk-container-id-5 div.sk-serial {display: flex;flex-direction: column;align-items: center;background-color: white;padding-right: 0.2em;padding-left: 0.2em;position: relative;}#sk-container-id-5 div.sk-item {position: relative;z-index: 1;}#sk-container-id-5 div.sk-parallel {display: flex;align-items: stretch;justify-content: center;background-color: white;position: relative;}#sk-container-id-5 div.sk-item::before, #sk-container-id-5 div.sk-parallel-item::before {content: \"\";position: absolute;border-left: 1px solid gray;box-sizing: border-box;top: 0;bottom: 0;left: 50%;z-index: -1;}#sk-container-id-5 div.sk-parallel-item {display: flex;flex-direction: column;z-index: 1;position: relative;background-color: white;}#sk-container-id-5 div.sk-parallel-item:first-child::after {align-self: flex-end;width: 50%;}#sk-container-id-5 div.sk-parallel-item:last-child::after {align-self: flex-start;width: 50%;}#sk-container-id-5 div.sk-parallel-item:only-child::after {width: 0;}#sk-container-id-5 div.sk-dashed-wrapped {border: 1px dashed gray;margin: 0 0.4em 0.5em 0.4em;box-sizing: border-box;padding-bottom: 0.4em;background-color: white;}#sk-container-id-5 div.sk-label label {font-family: monospace;font-weight: bold;display: inline-block;line-height: 1.2em;}#sk-container-id-5 div.sk-label-container {text-align: center;}#sk-container-id-5 div.sk-container {/* jupyter's `normalize.less` sets `[hidden] { display: none; }` but bootstrap.min.css set `[hidden] { display: none !important; }` so we also need the `!important` here to be able to override the default hidden behavior on the sphinx rendered scikit-learn.org. See: https://github.com/scikit-learn/scikit-learn/issues/21755 */display: inline-block !important;position: relative;}#sk-container-id-5 div.sk-text-repr-fallback {display: none;}</style><div id=\"sk-container-id-5\" class=\"sk-top-container\"><div class=\"sk-text-repr-fallback\"><pre>GridSearchCV(estimator=DecisionTreeClassifier(), n_jobs=-1,\n",
       "             param_grid={&#x27;max_depth&#x27;: [1, 2, 3, 4, 5, 6, 7, 8, 9, 10, 11, 12,\n",
       "                                       13, 14, 15, 16, 17, 18, 19, 20]},\n",
       "             return_train_score=True)</pre><b>In a Jupyter environment, please rerun this cell to show the HTML representation or trust the notebook. <br />On GitHub, the HTML representation is unable to render, please try loading this page with nbviewer.org.</b></div><div class=\"sk-container\" hidden><div class=\"sk-item sk-dashed-wrapped\"><div class=\"sk-label-container\"><div class=\"sk-label sk-toggleable\"><input class=\"sk-toggleable__control sk-hidden--visually\" id=\"sk-estimator-id-9\" type=\"checkbox\" ><label for=\"sk-estimator-id-9\" class=\"sk-toggleable__label sk-toggleable__label-arrow\">GridSearchCV</label><div class=\"sk-toggleable__content\"><pre>GridSearchCV(estimator=DecisionTreeClassifier(), n_jobs=-1,\n",
       "             param_grid={&#x27;max_depth&#x27;: [1, 2, 3, 4, 5, 6, 7, 8, 9, 10, 11, 12,\n",
       "                                       13, 14, 15, 16, 17, 18, 19, 20]},\n",
       "             return_train_score=True)</pre></div></div></div><div class=\"sk-parallel\"><div class=\"sk-parallel-item\"><div class=\"sk-item\"><div class=\"sk-label-container\"><div class=\"sk-label sk-toggleable\"><input class=\"sk-toggleable__control sk-hidden--visually\" id=\"sk-estimator-id-10\" type=\"checkbox\" ><label for=\"sk-estimator-id-10\" class=\"sk-toggleable__label sk-toggleable__label-arrow\">estimator: DecisionTreeClassifier</label><div class=\"sk-toggleable__content\"><pre>DecisionTreeClassifier()</pre></div></div></div><div class=\"sk-serial\"><div class=\"sk-item\"><div class=\"sk-estimator sk-toggleable\"><input class=\"sk-toggleable__control sk-hidden--visually\" id=\"sk-estimator-id-11\" type=\"checkbox\" ><label for=\"sk-estimator-id-11\" class=\"sk-toggleable__label sk-toggleable__label-arrow\">DecisionTreeClassifier</label><div class=\"sk-toggleable__content\"><pre>DecisionTreeClassifier()</pre></div></div></div></div></div></div></div></div></div></div>"
      ],
      "text/plain": [
       "GridSearchCV(estimator=DecisionTreeClassifier(), n_jobs=-1,\n",
       "             param_grid={'max_depth': [1, 2, 3, 4, 5, 6, 7, 8, 9, 10, 11, 12,\n",
       "                                       13, 14, 15, 16, 17, 18, 19, 20]},\n",
       "             return_train_score=True)"
      ]
     },
     "execution_count": 44,
     "metadata": {},
     "output_type": "execute_result"
    }
   ],
   "source": [
    "dtreeCV.fit(X_ohe,y)"
   ]
  },
  {
   "cell_type": "code",
   "execution_count": 45,
   "id": "4140376e",
   "metadata": {},
   "outputs": [
    {
     "data": {
      "text/plain": [
       "{'max_depth': 2}"
      ]
     },
     "execution_count": 45,
     "metadata": {},
     "output_type": "execute_result"
    }
   ],
   "source": [
    "dtreeCV.best_params_"
   ]
  },
  {
   "cell_type": "code",
   "execution_count": 46,
   "id": "0d14b3ca",
   "metadata": {},
   "outputs": [
    {
     "data": {
      "text/plain": [
       "0.7798652466855032"
      ]
     },
     "execution_count": 46,
     "metadata": {},
     "output_type": "execute_result"
    }
   ],
   "source": [
    "dtreeCV.best_score_"
   ]
  },
  {
   "cell_type": "code",
   "execution_count": 47,
   "id": "68270d68",
   "metadata": {},
   "outputs": [
    {
     "data": {
      "text/html": [
       "<div>\n",
       "<style scoped>\n",
       "    .dataframe tbody tr th:only-of-type {\n",
       "        vertical-align: middle;\n",
       "    }\n",
       "\n",
       "    .dataframe tbody tr th {\n",
       "        vertical-align: top;\n",
       "    }\n",
       "\n",
       "    .dataframe thead th {\n",
       "        text-align: right;\n",
       "    }\n",
       "</style>\n",
       "<table border=\"1\" class=\"dataframe\">\n",
       "  <thead>\n",
       "    <tr style=\"text-align: right;\">\n",
       "      <th></th>\n",
       "      <th>depth</th>\n",
       "      <th>train</th>\n",
       "      <th>valid</th>\n",
       "      <th>baseline</th>\n",
       "    </tr>\n",
       "  </thead>\n",
       "  <tbody>\n",
       "    <tr>\n",
       "      <th>0</th>\n",
       "      <td>1</td>\n",
       "      <td>0.909598</td>\n",
       "      <td>0.778005</td>\n",
       "      <td>0.55652</td>\n",
       "    </tr>\n",
       "    <tr>\n",
       "      <th>1</th>\n",
       "      <td>2</td>\n",
       "      <td>0.912394</td>\n",
       "      <td>0.779865</td>\n",
       "      <td>0.55652</td>\n",
       "    </tr>\n",
       "    <tr>\n",
       "      <th>2</th>\n",
       "      <td>3</td>\n",
       "      <td>0.924975</td>\n",
       "      <td>0.502078</td>\n",
       "      <td>0.55652</td>\n",
       "    </tr>\n",
       "    <tr>\n",
       "      <th>3</th>\n",
       "      <td>4</td>\n",
       "      <td>0.934293</td>\n",
       "      <td>0.502060</td>\n",
       "      <td>0.55652</td>\n",
       "    </tr>\n",
       "    <tr>\n",
       "      <th>4</th>\n",
       "      <td>5</td>\n",
       "      <td>0.945712</td>\n",
       "      <td>0.502995</td>\n",
       "      <td>0.55652</td>\n",
       "    </tr>\n",
       "    <tr>\n",
       "      <th>5</th>\n",
       "      <td>6</td>\n",
       "      <td>0.957128</td>\n",
       "      <td>0.502065</td>\n",
       "      <td>0.55652</td>\n",
       "    </tr>\n",
       "    <tr>\n",
       "      <th>6</th>\n",
       "      <td>7</td>\n",
       "      <td>0.965516</td>\n",
       "      <td>0.502060</td>\n",
       "      <td>0.55652</td>\n",
       "    </tr>\n",
       "    <tr>\n",
       "      <th>7</th>\n",
       "      <td>8</td>\n",
       "      <td>0.973437</td>\n",
       "      <td>0.496453</td>\n",
       "      <td>0.55652</td>\n",
       "    </tr>\n",
       "    <tr>\n",
       "      <th>8</th>\n",
       "      <td>9</td>\n",
       "      <td>0.979961</td>\n",
       "      <td>0.497383</td>\n",
       "      <td>0.55652</td>\n",
       "    </tr>\n",
       "    <tr>\n",
       "      <th>9</th>\n",
       "      <td>10</td>\n",
       "      <td>0.985087</td>\n",
       "      <td>0.504860</td>\n",
       "      <td>0.55652</td>\n",
       "    </tr>\n",
       "    <tr>\n",
       "      <th>10</th>\n",
       "      <td>11</td>\n",
       "      <td>0.987883</td>\n",
       "      <td>0.502986</td>\n",
       "      <td>0.55652</td>\n",
       "    </tr>\n",
       "    <tr>\n",
       "      <th>11</th>\n",
       "      <td>12</td>\n",
       "      <td>0.989280</td>\n",
       "      <td>0.502986</td>\n",
       "      <td>0.55652</td>\n",
       "    </tr>\n",
       "    <tr>\n",
       "      <th>12</th>\n",
       "      <td>13</td>\n",
       "      <td>0.990678</td>\n",
       "      <td>0.502986</td>\n",
       "      <td>0.55652</td>\n",
       "    </tr>\n",
       "    <tr>\n",
       "      <th>13</th>\n",
       "      <td>14</td>\n",
       "      <td>0.991377</td>\n",
       "      <td>0.502047</td>\n",
       "      <td>0.55652</td>\n",
       "    </tr>\n",
       "    <tr>\n",
       "      <th>14</th>\n",
       "      <td>15</td>\n",
       "      <td>0.992309</td>\n",
       "      <td>0.502991</td>\n",
       "      <td>0.55652</td>\n",
       "    </tr>\n",
       "    <tr>\n",
       "      <th>15</th>\n",
       "      <td>16</td>\n",
       "      <td>0.993474</td>\n",
       "      <td>0.502982</td>\n",
       "      <td>0.55652</td>\n",
       "    </tr>\n",
       "    <tr>\n",
       "      <th>16</th>\n",
       "      <td>17</td>\n",
       "      <td>0.994173</td>\n",
       "      <td>0.500183</td>\n",
       "      <td>0.55652</td>\n",
       "    </tr>\n",
       "    <tr>\n",
       "      <th>17</th>\n",
       "      <td>18</td>\n",
       "      <td>0.994872</td>\n",
       "      <td>0.499248</td>\n",
       "      <td>0.55652</td>\n",
       "    </tr>\n",
       "    <tr>\n",
       "      <th>18</th>\n",
       "      <td>19</td>\n",
       "      <td>0.995338</td>\n",
       "      <td>0.502986</td>\n",
       "      <td>0.55652</td>\n",
       "    </tr>\n",
       "    <tr>\n",
       "      <th>19</th>\n",
       "      <td>20</td>\n",
       "      <td>0.996037</td>\n",
       "      <td>0.502052</td>\n",
       "      <td>0.55652</td>\n",
       "    </tr>\n",
       "  </tbody>\n",
       "</table>\n",
       "</div>"
      ],
      "text/plain": [
       "    depth     train     valid  baseline\n",
       "0       1  0.909598  0.778005   0.55652\n",
       "1       2  0.912394  0.779865   0.55652\n",
       "2       3  0.924975  0.502078   0.55652\n",
       "3       4  0.934293  0.502060   0.55652\n",
       "4       5  0.945712  0.502995   0.55652\n",
       "5       6  0.957128  0.502065   0.55652\n",
       "6       7  0.965516  0.502060   0.55652\n",
       "7       8  0.973437  0.496453   0.55652\n",
       "8       9  0.979961  0.497383   0.55652\n",
       "9      10  0.985087  0.504860   0.55652\n",
       "10     11  0.987883  0.502986   0.55652\n",
       "11     12  0.989280  0.502986   0.55652\n",
       "12     13  0.990678  0.502986   0.55652\n",
       "13     14  0.991377  0.502047   0.55652\n",
       "14     15  0.992309  0.502991   0.55652\n",
       "15     16  0.993474  0.502982   0.55652\n",
       "16     17  0.994173  0.500183   0.55652\n",
       "17     18  0.994872  0.499248   0.55652\n",
       "18     19  0.995338  0.502986   0.55652\n",
       "19     20  0.996037  0.502052   0.55652"
      ]
     },
     "execution_count": 47,
     "metadata": {},
     "output_type": "execute_result"
    }
   ],
   "source": [
    "results = pd.DataFrame()\n",
    "results['depth'] = parameters['max_depth']\n",
    "results['train'] = dtreeCV.cv_results_['mean_train_score'] # we need to set return_train_score=True to have this data\n",
    "results['valid'] = dtreeCV.cv_results_['mean_test_score']\n",
    "results['baseline'] = base_acc\n",
    "results"
   ]
  },
  {
   "cell_type": "code",
   "execution_count": 51,
   "id": "6e0b9b03",
   "metadata": {},
   "outputs": [
    {
     "data": {
      "text/plain": [
       "<AxesSubplot:xlabel='depth'>"
      ]
     },
     "execution_count": 51,
     "metadata": {},
     "output_type": "execute_result"
    },
    {
     "data": {
      "image/png": "[encoded data removed]",
      "text/plain": [
       "<Figure size 640x480 with 1 Axes>"
      ]
     },
     "metadata": {},
     "output_type": "display_data"
    }
   ],
   "source": [
    "results.plot.line(x='depth', y = ['train','valid','baseline'])"
   ]
  },
  {
   "cell_type": "code",
   "execution_count": 48,
   "id": "96e19d13",
   "metadata": {},
   "outputs": [],
   "source": [
    "dtree = DecisionTreeClassifier(max_depth=2)"
   ]
  },
  {
   "cell_type": "code",
   "execution_count": 49,
   "id": "22190989",
   "metadata": {},
   "outputs": [
    {
     "data": {
      "text/html": [
       "<style>#sk-container-id-6 {color: black;background-color: white;}#sk-container-id-6 pre{padding: 0;}#sk-container-id-6 div.sk-toggleable {background-color: white;}#sk-container-id-6 label.sk-toggleable__label {cursor: pointer;display: block;width: 100%;margin-bottom: 0;padding: 0.3em;box-sizing: border-box;text-align: center;}#sk-container-id-6 label.sk-toggleable__label-arrow:before {content: \"▸\";float: left;margin-right: 0.25em;color: #696969;}#sk-container-id-6 label.sk-toggleable__label-arrow:hover:before {color: black;}#sk-container-id-6 div.sk-estimator:hover label.sk-toggleable__label-arrow:before {color: black;}#sk-container-id-6 div.sk-toggleable__content {max-height: 0;max-width: 0;overflow: hidden;text-align: left;background-color: #f0f8ff;}#sk-container-id-6 div.sk-toggleable__content pre {margin: 0.2em;color: black;border-radius: 0.25em;background-color: #f0f8ff;}#sk-container-id-6 input.sk-toggleable__control:checked~div.sk-toggleable__content {max-height: 200px;max-width: 100%;overflow: auto;}#sk-container-id-6 input.sk-toggleable__control:checked~label.sk-toggleable__label-arrow:before {content: \"▾\";}#sk-container-id-6 div.sk-estimator input.sk-toggleable__control:checked~label.sk-toggleable__label {background-color: #d4ebff;}#sk-container-id-6 div.sk-label input.sk-toggleable__control:checked~label.sk-toggleable__label {background-color: #d4ebff;}#sk-container-id-6 input.sk-hidden--visually {border: 0;clip: rect(1px 1px 1px 1px);clip: rect(1px, 1px, 1px, 1px);height: 1px;margin: -1px;overflow: hidden;padding: 0;position: absolute;width: 1px;}#sk-container-id-6 div.sk-estimator {font-family: monospace;background-color: #f0f8ff;border: 1px dotted black;border-radius: 0.25em;box-sizing: border-box;margin-bottom: 0.5em;}#sk-container-id-6 div.sk-estimator:hover {background-color: #d4ebff;}#sk-container-id-6 div.sk-parallel-item::after {content: \"\";width: 100%;border-bottom: 1px solid gray;flex-grow: 1;}#sk-container-id-6 div.sk-label:hover label.sk-toggleable__label {background-color: #d4ebff;}#sk-container-id-6 div.sk-serial::before {content: \"\";position: absolute;border-left: 1px solid gray;box-sizing: border-box;top: 0;bottom: 0;left: 50%;z-index: 0;}#sk-container-id-6 div.sk-serial {display: flex;flex-direction: column;align-items: center;background-color: white;padding-right: 0.2em;padding-left: 0.2em;position: relative;}#sk-container-id-6 div.sk-item {position: relative;z-index: 1;}#sk-container-id-6 div.sk-parallel {display: flex;align-items: stretch;justify-content: center;background-color: white;position: relative;}#sk-container-id-6 div.sk-item::before, #sk-container-id-6 div.sk-parallel-item::before {content: \"\";position: absolute;border-left: 1px solid gray;box-sizing: border-box;top: 0;bottom: 0;left: 50%;z-index: -1;}#sk-container-id-6 div.sk-parallel-item {display: flex;flex-direction: column;z-index: 1;position: relative;background-color: white;}#sk-container-id-6 div.sk-parallel-item:first-child::after {align-self: flex-end;width: 50%;}#sk-container-id-6 div.sk-parallel-item:last-child::after {align-self: flex-start;width: 50%;}#sk-container-id-6 div.sk-parallel-item:only-child::after {width: 0;}#sk-container-id-6 div.sk-dashed-wrapped {border: 1px dashed gray;margin: 0 0.4em 0.5em 0.4em;box-sizing: border-box;padding-bottom: 0.4em;background-color: white;}#sk-container-id-6 div.sk-label label {font-family: monospace;font-weight: bold;display: inline-block;line-height: 1.2em;}#sk-container-id-6 div.sk-label-container {text-align: center;}#sk-container-id-6 div.sk-container {/* jupyter's `normalize.less` sets `[hidden] { display: none; }` but bootstrap.min.css set `[hidden] { display: none !important; }` so we also need the `!important` here to be able to override the default hidden behavior on the sphinx rendered scikit-learn.org. See: https://github.com/scikit-learn/scikit-learn/issues/21755 */display: inline-block !important;position: relative;}#sk-container-id-6 div.sk-text-repr-fallback {display: none;}</style><div id=\"sk-container-id-6\" class=\"sk-top-container\"><div class=\"sk-text-repr-fallback\"><pre>DecisionTreeClassifier(max_depth=2)</pre><b>In a Jupyter environment, please rerun this cell to show the HTML representation or trust the notebook. <br />On GitHub, the HTML representation is unable to render, please try loading this page with nbviewer.org.</b></div><div class=\"sk-container\" hidden><div class=\"sk-item\"><div class=\"sk-estimator sk-toggleable\"><input class=\"sk-toggleable__control sk-hidden--visually\" id=\"sk-estimator-id-12\" type=\"checkbox\" checked><label for=\"sk-estimator-id-12\" class=\"sk-toggleable__label sk-toggleable__label-arrow\">DecisionTreeClassifier</label><div class=\"sk-toggleable__content\"><pre>DecisionTreeClassifier(max_depth=2)</pre></div></div></div></div></div>"
      ],
      "text/plain": [
       "DecisionTreeClassifier(max_depth=2)"
      ]
     },
     "execution_count": 49,
     "metadata": {},
     "output_type": "execute_result"
    }
   ],
   "source": [
    "dtree.fit(X_ohe,y)"
   ]
  },
  {
   "cell_type": "code",
   "execution_count": 50,
   "id": "84780ec5",
   "metadata": {},
   "outputs": [
    {
     "name": "stdout",
     "output_type": "stream",
     "text": [
      "|----- int_overall_rating <= 67.5\n",
      "|     |----- int_overall_rating <= 65.5\n",
      "|     |     |----- class: L\n",
      "|     |----- int_overall_rating >  65.5\n",
      "|     |     |----- class: L\n",
      "|----- int_overall_rating >  67.5\n",
      "|     |----- int_team_id_86.0 <= 0.5\n",
      "|     |     |----- class: H\n",
      "|     |----- int_team_id_86.0 >  0.5\n",
      "|     |     |----- class: L\n",
      "\n"
     ]
    }
   ],
   "source": [
    "dtree_string = export_text(dtree,\n",
    "                           feature_names=list(X_ohe.columns),\n",
    "                           decimals=1,\n",
    "                           spacing=5)\n",
    "print(dtree_string)"
   ]
  },
  {
   "cell_type": "markdown",
   "id": "714006f6",
   "metadata": {},
   "source": [
    "Similary result with the 3 category one, team with id 86 have outlining effect on wage"
   ]
  },
  {
   "cell_type": "markdown",
   "id": "13b87d6f",
   "metadata": {},
   "source": [
    "# For over_all_rating"
   ]
  },
  {
   "cell_type": "code",
   "execution_count": null,
   "id": "f7061584",
   "metadata": {},
   "outputs": [],
   "source": []
  }
 ],
 "metadata": {
  "kernelspec": {
   "display_name": "Python 3 (ipykernel)",
   "language": "python",
   "name": "python3"
  },
  "language_info": {
   "codemirror_mode": {
    "name": "ipython",
    "version": 3
   },
   "file_extension": ".py",
   "mimetype": "text/x-python",
   "name": "python",
   "nbconvert_exporter": "python",
   "pygments_lexer": "ipython3",
   "version": "3.9.15"
  }
 },
 "nbformat": 4,
 "nbformat_minor": 5
}
