{
 "cells": [
  {
   "cell_type": "code",
   "execution_count": 1,
   "id": "5d00666e",
   "metadata": {},
   "outputs": [],
   "source": [
    "import numpy as np\n",
    "import pandas as pd\n",
    "from sklearn.tree import DecisionTreeClassifier, export_text\n",
    "from sklearn.model_selection import GridSearchCV\n",
    "from datetime import datetime, date\n",
    "import matplotlib.pyplot as plt\n",
    "import seaborn as sns"
   ]
  },
  {
   "cell_type": "code",
   "execution_count": 2,
   "id": "7b727fba",
   "metadata": {},
   "outputs": [],
   "source": [
    "df = pd.read_csv('./data/players.csv')"
   ]
  },
  {
   "cell_type": "code",
   "execution_count": 3,
   "id": "c846fa84",
   "metadata": {},
   "outputs": [
    {
     "data": {
      "text/html": [
       "<div>\n",
       "<style scoped>\n",
       "    .dataframe tbody tr th:only-of-type {\n",
       "        vertical-align: middle;\n",
       "    }\n",
       "\n",
       "    .dataframe tbody tr th {\n",
       "        vertical-align: top;\n",
       "    }\n",
       "\n",
       "    .dataframe thead th {\n",
       "        text-align: right;\n",
       "    }\n",
       "</style>\n",
       "<table border=\"1\" class=\"dataframe\">\n",
       "  <thead>\n",
       "    <tr style=\"text-align: right;\">\n",
       "      <th></th>\n",
       "      <th>int_player_id</th>\n",
       "      <th>str_player_name</th>\n",
       "      <th>str_positions</th>\n",
       "      <th>dt_date_of_birth</th>\n",
       "      <th>int_height</th>\n",
       "      <th>int_weight</th>\n",
       "      <th>int_overall_rating</th>\n",
       "      <th>int_potential_rating</th>\n",
       "      <th>str_best_position</th>\n",
       "      <th>int_best_overall_rating</th>\n",
       "      <th>...</th>\n",
       "      <th>int_international_reputations</th>\n",
       "      <th>str_work_rate</th>\n",
       "      <th>str_body_type</th>\n",
       "      <th>int_dribbling</th>\n",
       "      <th>int_curve</th>\n",
       "      <th>int_fk_accuracy</th>\n",
       "      <th>int_long_passing</th>\n",
       "      <th>int_ball_control</th>\n",
       "      <th>str_player_speciality</th>\n",
       "      <th>str_trait</th>\n",
       "    </tr>\n",
       "  </thead>\n",
       "  <tbody>\n",
       "    <tr>\n",
       "      <th>0</th>\n",
       "      <td>1</td>\n",
       "      <td>Lionel Andrés Messi Cuccittini</td>\n",
       "      <td>RW, ST, CF</td>\n",
       "      <td>1987-06-24</td>\n",
       "      <td>170</td>\n",
       "      <td>72</td>\n",
       "      <td>93</td>\n",
       "      <td>93</td>\n",
       "      <td>RW</td>\n",
       "      <td>93</td>\n",
       "      <td>...</td>\n",
       "      <td>5</td>\n",
       "      <td>Medium/ Low</td>\n",
       "      <td>Unique</td>\n",
       "      <td>96</td>\n",
       "      <td>93</td>\n",
       "      <td>94</td>\n",
       "      <td>91</td>\n",
       "      <td>96</td>\n",
       "      <td>['Dribbler', 'Distance Shooter', 'FK Specialis...</td>\n",
       "      <td>['Finesse Shot', 'Long Shot Taker (AI)', 'Spee...</td>\n",
       "    </tr>\n",
       "    <tr>\n",
       "      <th>1</th>\n",
       "      <td>2</td>\n",
       "      <td>Cristiano Ronaldo dos Santos Aveiro</td>\n",
       "      <td>ST, LW</td>\n",
       "      <td>1985-02-05</td>\n",
       "      <td>187</td>\n",
       "      <td>83</td>\n",
       "      <td>92</td>\n",
       "      <td>92</td>\n",
       "      <td>ST</td>\n",
       "      <td>92</td>\n",
       "      <td>...</td>\n",
       "      <td>5</td>\n",
       "      <td>High/ Low</td>\n",
       "      <td>Unique</td>\n",
       "      <td>88</td>\n",
       "      <td>81</td>\n",
       "      <td>76</td>\n",
       "      <td>77</td>\n",
       "      <td>92</td>\n",
       "      <td>['Aerial Threat', 'Dribbler', 'Distance Shoote...</td>\n",
       "      <td>['Power Free-Kick', 'Flair', 'Long Shot Taker ...</td>\n",
       "    </tr>\n",
       "    <tr>\n",
       "      <th>2</th>\n",
       "      <td>3</td>\n",
       "      <td>Jan Oblak</td>\n",
       "      <td>GK</td>\n",
       "      <td>1993-01-07</td>\n",
       "      <td>188</td>\n",
       "      <td>87</td>\n",
       "      <td>91</td>\n",
       "      <td>93</td>\n",
       "      <td>GK</td>\n",
       "      <td>91</td>\n",
       "      <td>...</td>\n",
       "      <td>3</td>\n",
       "      <td>Medium/ Medium</td>\n",
       "      <td>Unique</td>\n",
       "      <td>12</td>\n",
       "      <td>13</td>\n",
       "      <td>14</td>\n",
       "      <td>40</td>\n",
       "      <td>30</td>\n",
       "      <td>NaN</td>\n",
       "      <td>['GK Long Throw', 'Comes For Crosses']</td>\n",
       "    </tr>\n",
       "  </tbody>\n",
       "</table>\n",
       "<p>3 rows × 56 columns</p>\n",
       "</div>"
      ],
      "text/plain": [
       "   int_player_id                      str_player_name str_positions  \\\n",
       "0              1       Lionel Andrés Messi Cuccittini    RW, ST, CF   \n",
       "1              2  Cristiano Ronaldo dos Santos Aveiro        ST, LW   \n",
       "2              3                            Jan Oblak            GK   \n",
       "\n",
       "  dt_date_of_birth  int_height  int_weight  int_overall_rating  \\\n",
       "0       1987-06-24         170          72                  93   \n",
       "1       1985-02-05         187          83                  92   \n",
       "2       1993-01-07         188          87                  91   \n",
       "\n",
       "   int_potential_rating str_best_position  int_best_overall_rating  ...  \\\n",
       "0                    93                RW                       93  ...   \n",
       "1                    92                ST                       92  ...   \n",
       "2                    93                GK                       91  ...   \n",
       "\n",
       "   int_international_reputations   str_work_rate  str_body_type int_dribbling  \\\n",
       "0                              5     Medium/ Low         Unique            96   \n",
       "1                              5       High/ Low         Unique            88   \n",
       "2                              3  Medium/ Medium         Unique            12   \n",
       "\n",
       "   int_curve  int_fk_accuracy  int_long_passing  int_ball_control  \\\n",
       "0         93               94                91                96   \n",
       "1         81               76                77                92   \n",
       "2         13               14                40                30   \n",
       "\n",
       "                               str_player_speciality  \\\n",
       "0  ['Dribbler', 'Distance Shooter', 'FK Specialis...   \n",
       "1  ['Aerial Threat', 'Dribbler', 'Distance Shoote...   \n",
       "2                                                NaN   \n",
       "\n",
       "                                           str_trait  \n",
       "0  ['Finesse Shot', 'Long Shot Taker (AI)', 'Spee...  \n",
       "1  ['Power Free-Kick', 'Flair', 'Long Shot Taker ...  \n",
       "2             ['GK Long Throw', 'Comes For Crosses']  \n",
       "\n",
       "[3 rows x 56 columns]"
      ]
     },
     "execution_count": 3,
     "metadata": {},
     "output_type": "execute_result"
    }
   ],
   "source": [
    "df.head(3)"
   ]
  },
  {
   "cell_type": "markdown",
   "id": "14080e90",
   "metadata": {},
   "source": [
    "# Analysis"
   ]
  },
  {
   "cell_type": "markdown",
   "id": "513d7b55",
   "metadata": {},
   "source": [
    "## Wage"
   ]
  },
  {
   "cell_type": "code",
   "execution_count": 4,
   "id": "f58144c4",
   "metadata": {},
   "outputs": [
    {
     "data": {
      "text/plain": [
       "<AxesSubplot:>"
      ]
     },
     "execution_count": 4,
     "metadata": {},
     "output_type": "execute_result"
    },
    {
     "data": {
      "image/png": "[encoded data removed]",
      "text/plain": [
       "<Figure size 640x480 with 1 Axes>"
      ]
     },
     "metadata": {},
     "output_type": "display_data"
    }
   ],
   "source": [
    "df.int_wage.plot.box()"
   ]
  },
  {
   "cell_type": "code",
   "execution_count": 5,
   "id": "5805d523",
   "metadata": {},
   "outputs": [
    {
     "data": {
      "text/plain": [
       "count     19002.000000\n",
       "mean       9113.167035\n",
       "std       19735.324238\n",
       "min           0.000000\n",
       "25%        1000.000000\n",
       "50%        3000.000000\n",
       "75%        8000.000000\n",
       "max      560000.000000\n",
       "Name: int_wage, dtype: float64"
      ]
     },
     "execution_count": 5,
     "metadata": {},
     "output_type": "execute_result"
    }
   ],
   "source": [
    "df['int_wage'].describe()"
   ]
  },
  {
   "cell_type": "code",
   "execution_count": 6,
   "id": "bfd4c840",
   "metadata": {},
   "outputs": [],
   "source": [
    "IQR = np.percentile(df.int_wage,75)-np.percentile(df.int_wage,25)"
   ]
  },
  {
   "cell_type": "code",
   "execution_count": 7,
   "id": "b25181d0",
   "metadata": {},
   "outputs": [
    {
     "name": "stdout",
     "output_type": "stream",
     "text": [
      "large outliers: \n",
      "False    16629\n",
      "True      2373\n",
      "Name: int_wage, dtype: int64\n",
      "\n",
      "percentage of large outliers: \n",
      "12.488159141143038\n"
     ]
    }
   ],
   "source": [
    "print(\"large outliers: \")\n",
    "print((df.int_wage>np.percentile(df.int_wage,75)+1.5*IQR).value_counts())\n",
    "print(\"\")\n",
    "print(\"percentage of large outliers: \")\n",
    "print((df.int_wage>np.percentile(df.int_wage,75)+1.5*IQR).value_counts()[1]/df.shape[0] * 100)"
   ]
  },
  {
   "cell_type": "code",
   "execution_count": 8,
   "id": "2b42f635",
   "metadata": {},
   "outputs": [
    {
     "name": "stdout",
     "output_type": "stream",
     "text": [
      "extreme large outliers: \n",
      "False    17354\n",
      "True      1648\n",
      "Name: int_wage, dtype: int64\n",
      "\n",
      "percentage of extreme large outliers: \n",
      "8.672771287232923\n"
     ]
    }
   ],
   "source": [
    "print(\"extreme large outliers: \")\n",
    "print((df.int_wage>np.percentile(df.int_wage,75)+2.5*IQR).value_counts())\n",
    "print(\"\")\n",
    "print(\"percentage of extreme large outliers: \")\n",
    "print((df.int_wage>np.percentile(df.int_wage,75)+2.5*IQR).value_counts()[1]/df.shape[0] * 100)"
   ]
  },
  {
   "cell_type": "code",
   "execution_count": 9,
   "id": "ad7274ac",
   "metadata": {},
   "outputs": [
    {
     "name": "stdout",
     "output_type": "stream",
     "text": [
      "sum of wage of players with extreme large outlier: \n",
      "91579000\n",
      "sum of wage of the rest players\n",
      "81589400\n"
     ]
    }
   ],
   "source": [
    "print(\"sum of wage of players with extreme large outlier: \")\n",
    "print(df[df.int_wage>np.percentile(df.int_wage,75)+2.5*IQR].int_wage.sum())\n",
    "print(\"sum of wage of the rest players\")\n",
    "print(df[df.int_wage<np.percentile(df.int_wage,75)+2.5*IQR].int_wage.sum())"
   ]
  },
  {
   "cell_type": "code",
   "execution_count": null,
   "id": "9b8d0bb4",
   "metadata": {},
   "outputs": [],
   "source": []
  },
  {
   "cell_type": "code",
   "execution_count": null,
   "id": "72c3daec",
   "metadata": {},
   "outputs": [],
   "source": []
  },
  {
   "cell_type": "code",
   "execution_count": null,
   "id": "85ef67e6",
   "metadata": {},
   "outputs": [],
   "source": []
  },
  {
   "cell_type": "markdown",
   "id": "d5061a9d",
   "metadata": {},
   "source": [
    "# Clean Data"
   ]
  },
  {
   "cell_type": "markdown",
   "id": "5986be18",
   "metadata": {},
   "source": [
    "## remove id"
   ]
  },
  {
   "cell_type": "code",
   "execution_count": 21,
   "id": "665e0f70",
   "metadata": {},
   "outputs": [],
   "source": [
    "df = df.drop('int_player_id',axis=1)"
   ]
  },
  {
   "cell_type": "markdown",
   "id": "7843a2a6",
   "metadata": {},
   "source": [
    "## replace date of birth by age"
   ]
  },
  {
   "cell_type": "code",
   "execution_count": 11,
   "id": "7de920d0",
   "metadata": {
    "scrolled": true
   },
   "outputs": [],
   "source": [
    "df['age'] = date.today().year - pd.DatetimeIndex(pd.to_datetime(df['dt_date_of_birth'])).year\n",
    "df = df.drop('dt_date_of_birth',axis=1)"
   ]
  },
  {
   "cell_type": "markdown",
   "id": "5e5cdfcc",
   "metadata": {},
   "source": [
    "## position (one-hot-encoding)"
   ]
  },
  {
   "cell_type": "code",
   "execution_count": 12,
   "id": "eb0fc7e6",
   "metadata": {},
   "outputs": [],
   "source": [
    "def pos_fun(x):\n",
    "    re = \"\"\n",
    "    tmp = x.split(\",\")\n",
    "    for t in tmp:\n",
    "        if \"GK\" in t :\n",
    "            re += \",GK\"\n",
    "        elif \"B\" in t:\n",
    "            re += \",Back\"\n",
    "        elif \"M\" in t:\n",
    "            re += \",Mid\"\n",
    "        else:\n",
    "            re += \",Front\"\n",
    "    return re;"
   ]
  },
  {
   "cell_type": "code",
   "execution_count": 18,
   "id": "94ed312d",
   "metadata": {},
   "outputs": [
    {
     "data": {
      "text/plain": [
       "0        Front\n",
       "1        Front\n",
       "2           GK\n",
       "3          Mid\n",
       "4        Front\n",
       "         ...  \n",
       "18997     Back\n",
       "18998      Mid\n",
       "18999     Back\n",
       "19000      Mid\n",
       "19001      Mid\n",
       "Name: str_best_position, Length: 19002, dtype: object"
      ]
     },
     "execution_count": 18,
     "metadata": {},
     "output_type": "execute_result"
    }
   ],
   "source": [
    "df['str_best_position'] = df['str_best_position'].apply(pos_fun)\n",
    "df.str_best_position = df.str_best_position.astype('category')\n",
    "#df['str_best_position'].apply(lambda x: x.replace(\",\",\"\"))\n",
    "df['str_best_position'] = df['str_best_position'].str.replace(\",\",\"\")\n",
    "df['str_best_position']"
   ]
  },
  {
   "cell_type": "code",
   "execution_count": 14,
   "id": "11671a01",
   "metadata": {},
   "outputs": [
    {
     "data": {
      "text/plain": [
       "0        RW, ST, CF\n",
       "1            ST, LW\n",
       "2                GK\n",
       "3           CAM, CM\n",
       "4           LW, CAM\n",
       "            ...    \n",
       "18997            CB\n",
       "18998            ST\n",
       "18999            CB\n",
       "19000            CM\n",
       "19001           CDM\n",
       "Name: str_positions, Length: 19002, dtype: object"
      ]
     },
     "execution_count": 14,
     "metadata": {},
     "output_type": "execute_result"
    }
   ],
   "source": [
    "df['str_positions']"
   ]
  },
  {
   "cell_type": "code",
   "execution_count": 15,
   "id": "c297e4f0",
   "metadata": {},
   "outputs": [],
   "source": [
    "df['str_positions'] = df['str_positions'].str.replace(\" \",\"\")\n",
    "df['str_positions'] = df['str_positions'].apply(pos_fun)\n",
    "pos_one_hot = df['str_positions'].str.get_dummies(sep = ',')\n",
    "df = pd.concat([df,pos_one_hot],axis = 1)\n",
    "df = df.drop('str_positions',axis=1)"
   ]
  },
  {
   "cell_type": "code",
   "execution_count": 22,
   "id": "85a13434",
   "metadata": {},
   "outputs": [
    {
     "data": {
      "text/html": [
       "<div>\n",
       "<style scoped>\n",
       "    .dataframe tbody tr th:only-of-type {\n",
       "        vertical-align: middle;\n",
       "    }\n",
       "\n",
       "    .dataframe tbody tr th {\n",
       "        vertical-align: top;\n",
       "    }\n",
       "\n",
       "    .dataframe thead th {\n",
       "        text-align: right;\n",
       "    }\n",
       "</style>\n",
       "<table border=\"1\" class=\"dataframe\">\n",
       "  <thead>\n",
       "    <tr style=\"text-align: right;\">\n",
       "      <th></th>\n",
       "      <th>str_player_name</th>\n",
       "      <th>int_height</th>\n",
       "      <th>int_weight</th>\n",
       "      <th>int_overall_rating</th>\n",
       "      <th>int_potential_rating</th>\n",
       "      <th>str_best_position</th>\n",
       "      <th>int_best_overall_rating</th>\n",
       "      <th>int_value</th>\n",
       "      <th>int_wage</th>\n",
       "      <th>int_team_id</th>\n",
       "      <th>...</th>\n",
       "      <th>Lean (170-)</th>\n",
       "      <th>Lean (170-185)</th>\n",
       "      <th>Lean (185+)</th>\n",
       "      <th>Normal (170-)</th>\n",
       "      <th>Normal (170-185)</th>\n",
       "      <th>Normal (185+)</th>\n",
       "      <th>Stocky (170-)</th>\n",
       "      <th>Stocky (170-185)</th>\n",
       "      <th>Stocky (185+)</th>\n",
       "      <th>Unique</th>\n",
       "    </tr>\n",
       "  </thead>\n",
       "  <tbody>\n",
       "    <tr>\n",
       "      <th>0</th>\n",
       "      <td>Lionel Andrés Messi Cuccittini</td>\n",
       "      <td>170</td>\n",
       "      <td>72</td>\n",
       "      <td>93</td>\n",
       "      <td>93</td>\n",
       "      <td>Front</td>\n",
       "      <td>93</td>\n",
       "      <td>103500000</td>\n",
       "      <td>560000</td>\n",
       "      <td>5.0</td>\n",
       "      <td>...</td>\n",
       "      <td>0</td>\n",
       "      <td>0</td>\n",
       "      <td>0</td>\n",
       "      <td>0</td>\n",
       "      <td>0</td>\n",
       "      <td>0</td>\n",
       "      <td>0</td>\n",
       "      <td>0</td>\n",
       "      <td>0</td>\n",
       "      <td>1</td>\n",
       "    </tr>\n",
       "    <tr>\n",
       "      <th>1</th>\n",
       "      <td>Cristiano Ronaldo dos Santos Aveiro</td>\n",
       "      <td>187</td>\n",
       "      <td>83</td>\n",
       "      <td>92</td>\n",
       "      <td>92</td>\n",
       "      <td>Front</td>\n",
       "      <td>92</td>\n",
       "      <td>63000000</td>\n",
       "      <td>220000</td>\n",
       "      <td>6.0</td>\n",
       "      <td>...</td>\n",
       "      <td>0</td>\n",
       "      <td>0</td>\n",
       "      <td>0</td>\n",
       "      <td>0</td>\n",
       "      <td>0</td>\n",
       "      <td>0</td>\n",
       "      <td>0</td>\n",
       "      <td>0</td>\n",
       "      <td>0</td>\n",
       "      <td>1</td>\n",
       "    </tr>\n",
       "    <tr>\n",
       "      <th>2</th>\n",
       "      <td>Jan Oblak</td>\n",
       "      <td>188</td>\n",
       "      <td>87</td>\n",
       "      <td>91</td>\n",
       "      <td>93</td>\n",
       "      <td>GK</td>\n",
       "      <td>91</td>\n",
       "      <td>120000000</td>\n",
       "      <td>125000</td>\n",
       "      <td>8.0</td>\n",
       "      <td>...</td>\n",
       "      <td>0</td>\n",
       "      <td>0</td>\n",
       "      <td>0</td>\n",
       "      <td>0</td>\n",
       "      <td>0</td>\n",
       "      <td>0</td>\n",
       "      <td>0</td>\n",
       "      <td>0</td>\n",
       "      <td>0</td>\n",
       "      <td>1</td>\n",
       "    </tr>\n",
       "    <tr>\n",
       "      <th>3</th>\n",
       "      <td>Kevin De Bruyne</td>\n",
       "      <td>181</td>\n",
       "      <td>70</td>\n",
       "      <td>91</td>\n",
       "      <td>91</td>\n",
       "      <td>Mid</td>\n",
       "      <td>91</td>\n",
       "      <td>129000000</td>\n",
       "      <td>370000</td>\n",
       "      <td>2.0</td>\n",
       "      <td>...</td>\n",
       "      <td>0</td>\n",
       "      <td>0</td>\n",
       "      <td>0</td>\n",
       "      <td>0</td>\n",
       "      <td>0</td>\n",
       "      <td>0</td>\n",
       "      <td>0</td>\n",
       "      <td>0</td>\n",
       "      <td>0</td>\n",
       "      <td>1</td>\n",
       "    </tr>\n",
       "    <tr>\n",
       "      <th>4</th>\n",
       "      <td>Neymar da Silva Santos Júnior</td>\n",
       "      <td>175</td>\n",
       "      <td>68</td>\n",
       "      <td>91</td>\n",
       "      <td>91</td>\n",
       "      <td>Front</td>\n",
       "      <td>91</td>\n",
       "      <td>132000000</td>\n",
       "      <td>270000</td>\n",
       "      <td>7.0</td>\n",
       "      <td>...</td>\n",
       "      <td>0</td>\n",
       "      <td>0</td>\n",
       "      <td>0</td>\n",
       "      <td>0</td>\n",
       "      <td>0</td>\n",
       "      <td>0</td>\n",
       "      <td>0</td>\n",
       "      <td>0</td>\n",
       "      <td>0</td>\n",
       "      <td>1</td>\n",
       "    </tr>\n",
       "  </tbody>\n",
       "</table>\n",
       "<p>5 rows × 67 columns</p>\n",
       "</div>"
      ],
      "text/plain": [
       "                       str_player_name  int_height  int_weight  \\\n",
       "0       Lionel Andrés Messi Cuccittini         170          72   \n",
       "1  Cristiano Ronaldo dos Santos Aveiro         187          83   \n",
       "2                            Jan Oblak         188          87   \n",
       "3                      Kevin De Bruyne         181          70   \n",
       "4        Neymar da Silva Santos Júnior         175          68   \n",
       "\n",
       "   int_overall_rating  int_potential_rating str_best_position  \\\n",
       "0                  93                    93             Front   \n",
       "1                  92                    92             Front   \n",
       "2                  91                    93                GK   \n",
       "3                  91                    91               Mid   \n",
       "4                  91                    91             Front   \n",
       "\n",
       "   int_best_overall_rating  int_value  int_wage  int_team_id  ... Lean (170-)  \\\n",
       "0                       93  103500000    560000          5.0  ...           0   \n",
       "1                       92   63000000    220000          6.0  ...           0   \n",
       "2                       91  120000000    125000          8.0  ...           0   \n",
       "3                       91  129000000    370000          2.0  ...           0   \n",
       "4                       91  132000000    270000          7.0  ...           0   \n",
       "\n",
       "   Lean (170-185)  Lean (185+)  Normal (170-)  Normal (170-185)  \\\n",
       "0               0            0              0                 0   \n",
       "1               0            0              0                 0   \n",
       "2               0            0              0                 0   \n",
       "3               0            0              0                 0   \n",
       "4               0            0              0                 0   \n",
       "\n",
       "   Normal (185+)  Stocky (170-)  Stocky (170-185)  Stocky (185+)  Unique  \n",
       "0              0              0                 0              0       1  \n",
       "1              0              0                 0              0       1  \n",
       "2              0              0                 0              0       1  \n",
       "3              0              0                 0              0       1  \n",
       "4              0              0                 0              0       1  \n",
       "\n",
       "[5 rows x 67 columns]"
      ]
     },
     "execution_count": 22,
     "metadata": {},
     "output_type": "execute_result"
    }
   ],
   "source": [
    "df.head()"
   ]
  },
  {
   "cell_type": "markdown",
   "id": "df254b91",
   "metadata": {},
   "source": [
    "## body type (one-hot-encoding)"
   ]
  },
  {
   "cell_type": "code",
   "execution_count": 17,
   "id": "52649f82",
   "metadata": {
    "scrolled": true
   },
   "outputs": [],
   "source": [
    "body_one_hot = df.str_body_type.str.get_dummies()\n",
    "df = pd.concat([df,body_one_hot],axis = 1)\n",
    "df = df.drop('str_body_type',axis = 1)"
   ]
  },
  {
   "cell_type": "markdown",
   "id": "3385c312",
   "metadata": {},
   "source": []
  }
 ],
 "metadata": {
  "kernelspec": {
   "display_name": "Python 3 (ipykernel)",
   "language": "python",
   "name": "python3"
  },
  "language_info": {
   "codemirror_mode": {
    "name": "ipython",
    "version": 3
   },
   "file_extension": ".py",
   "mimetype": "text/x-python",
   "name": "python",
   "nbconvert_exporter": "python",
   "pygments_lexer": "ipython3",
   "version": "3.9.15"
  }
 },
 "nbformat": 4,
 "nbformat_minor": 5
}
