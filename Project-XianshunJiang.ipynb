{
 "cells": [
  {
   "cell_type": "code",
   "execution_count": 64,
   "id": "0cb5f343",
   "metadata": {},
   "outputs": [],
   "source": [
    "import numpy as np\n",
    "import pandas as pd\n",
    "from sklearn.tree import DecisionTreeClassifier, export_text\n",
    "from sklearn.model_selection import GridSearchCV\n",
    "from datetime import datetime, date\n",
    "import matplotlib.pyplot as plt\n",
    "import seaborn as sns"
   ]
  },
  {
   "cell_type": "code",
   "execution_count": 65,
   "id": "42a45672",
   "metadata": {},
   "outputs": [],
   "source": [
    "df = pd.read_csv('./data/players.csv')"
   ]
  },
  {
   "cell_type": "code",
   "execution_count": 66,
   "id": "01832dcc",
   "metadata": {},
   "outputs": [
    {
     "data": {
      "text/html": [
       "<div>\n",
       "<style scoped>\n",
       "    .dataframe tbody tr th:only-of-type {\n",
       "        vertical-align: middle;\n",
       "    }\n",
       "\n",
       "    .dataframe tbody tr th {\n",
       "        vertical-align: top;\n",
       "    }\n",
       "\n",
       "    .dataframe thead th {\n",
       "        text-align: right;\n",
       "    }\n",
       "</style>\n",
       "<table border=\"1\" class=\"dataframe\">\n",
       "  <thead>\n",
       "    <tr style=\"text-align: right;\">\n",
       "      <th></th>\n",
       "      <th>int_player_id</th>\n",
       "      <th>str_player_name</th>\n",
       "      <th>str_positions</th>\n",
       "      <th>dt_date_of_birth</th>\n",
       "      <th>int_height</th>\n",
       "      <th>int_weight</th>\n",
       "      <th>int_overall_rating</th>\n",
       "      <th>int_potential_rating</th>\n",
       "      <th>str_best_position</th>\n",
       "      <th>int_best_overall_rating</th>\n",
       "      <th>...</th>\n",
       "      <th>int_international_reputations</th>\n",
       "      <th>str_work_rate</th>\n",
       "      <th>str_body_type</th>\n",
       "      <th>int_dribbling</th>\n",
       "      <th>int_curve</th>\n",
       "      <th>int_fk_accuracy</th>\n",
       "      <th>int_long_passing</th>\n",
       "      <th>int_ball_control</th>\n",
       "      <th>str_player_speciality</th>\n",
       "      <th>str_trait</th>\n",
       "    </tr>\n",
       "  </thead>\n",
       "  <tbody>\n",
       "    <tr>\n",
       "      <th>0</th>\n",
       "      <td>1</td>\n",
       "      <td>Lionel Andrés Messi Cuccittini</td>\n",
       "      <td>RW, ST, CF</td>\n",
       "      <td>1987-06-24</td>\n",
       "      <td>170</td>\n",
       "      <td>72</td>\n",
       "      <td>93</td>\n",
       "      <td>93</td>\n",
       "      <td>RW</td>\n",
       "      <td>93</td>\n",
       "      <td>...</td>\n",
       "      <td>5</td>\n",
       "      <td>Medium/ Low</td>\n",
       "      <td>Unique</td>\n",
       "      <td>96</td>\n",
       "      <td>93</td>\n",
       "      <td>94</td>\n",
       "      <td>91</td>\n",
       "      <td>96</td>\n",
       "      <td>['Dribbler', 'Distance Shooter', 'FK Specialis...</td>\n",
       "      <td>['Finesse Shot', 'Long Shot Taker (AI)', 'Spee...</td>\n",
       "    </tr>\n",
       "    <tr>\n",
       "      <th>1</th>\n",
       "      <td>2</td>\n",
       "      <td>Cristiano Ronaldo dos Santos Aveiro</td>\n",
       "      <td>ST, LW</td>\n",
       "      <td>1985-02-05</td>\n",
       "      <td>187</td>\n",
       "      <td>83</td>\n",
       "      <td>92</td>\n",
       "      <td>92</td>\n",
       "      <td>ST</td>\n",
       "      <td>92</td>\n",
       "      <td>...</td>\n",
       "      <td>5</td>\n",
       "      <td>High/ Low</td>\n",
       "      <td>Unique</td>\n",
       "      <td>88</td>\n",
       "      <td>81</td>\n",
       "      <td>76</td>\n",
       "      <td>77</td>\n",
       "      <td>92</td>\n",
       "      <td>['Aerial Threat', 'Dribbler', 'Distance Shoote...</td>\n",
       "      <td>['Power Free-Kick', 'Flair', 'Long Shot Taker ...</td>\n",
       "    </tr>\n",
       "    <tr>\n",
       "      <th>2</th>\n",
       "      <td>3</td>\n",
       "      <td>Jan Oblak</td>\n",
       "      <td>GK</td>\n",
       "      <td>1993-01-07</td>\n",
       "      <td>188</td>\n",
       "      <td>87</td>\n",
       "      <td>91</td>\n",
       "      <td>93</td>\n",
       "      <td>GK</td>\n",
       "      <td>91</td>\n",
       "      <td>...</td>\n",
       "      <td>3</td>\n",
       "      <td>Medium/ Medium</td>\n",
       "      <td>Unique</td>\n",
       "      <td>12</td>\n",
       "      <td>13</td>\n",
       "      <td>14</td>\n",
       "      <td>40</td>\n",
       "      <td>30</td>\n",
       "      <td>NaN</td>\n",
       "      <td>['GK Long Throw', 'Comes For Crosses']</td>\n",
       "    </tr>\n",
       "  </tbody>\n",
       "</table>\n",
       "<p>3 rows × 56 columns</p>\n",
       "</div>"
      ],
      "text/plain": [
       "   int_player_id                      str_player_name str_positions  \\\n",
       "0              1       Lionel Andrés Messi Cuccittini    RW, ST, CF   \n",
       "1              2  Cristiano Ronaldo dos Santos Aveiro        ST, LW   \n",
       "2              3                            Jan Oblak            GK   \n",
       "\n",
       "  dt_date_of_birth  int_height  int_weight  int_overall_rating  \\\n",
       "0       1987-06-24         170          72                  93   \n",
       "1       1985-02-05         187          83                  92   \n",
       "2       1993-01-07         188          87                  91   \n",
       "\n",
       "   int_potential_rating str_best_position  int_best_overall_rating  ...  \\\n",
       "0                    93                RW                       93  ...   \n",
       "1                    92                ST                       92  ...   \n",
       "2                    93                GK                       91  ...   \n",
       "\n",
       "   int_international_reputations   str_work_rate  str_body_type int_dribbling  \\\n",
       "0                              5     Medium/ Low         Unique            96   \n",
       "1                              5       High/ Low         Unique            88   \n",
       "2                              3  Medium/ Medium         Unique            12   \n",
       "\n",
       "   int_curve  int_fk_accuracy  int_long_passing  int_ball_control  \\\n",
       "0         93               94                91                96   \n",
       "1         81               76                77                92   \n",
       "2         13               14                40                30   \n",
       "\n",
       "                               str_player_speciality  \\\n",
       "0  ['Dribbler', 'Distance Shooter', 'FK Specialis...   \n",
       "1  ['Aerial Threat', 'Dribbler', 'Distance Shoote...   \n",
       "2                                                NaN   \n",
       "\n",
       "                                           str_trait  \n",
       "0  ['Finesse Shot', 'Long Shot Taker (AI)', 'Spee...  \n",
       "1  ['Power Free-Kick', 'Flair', 'Long Shot Taker ...  \n",
       "2             ['GK Long Throw', 'Comes For Crosses']  \n",
       "\n",
       "[3 rows x 56 columns]"
      ]
     },
     "execution_count": 66,
     "metadata": {},
     "output_type": "execute_result"
    }
   ],
   "source": [
    "df.head(3)"
   ]
  },
  {
   "cell_type": "code",
   "execution_count": 67,
   "id": "69151d9d",
   "metadata": {},
   "outputs": [
    {
     "data": {
      "text/plain": [
       "(19002, 56)"
      ]
     },
     "execution_count": 67,
     "metadata": {},
     "output_type": "execute_result"
    }
   ],
   "source": [
    "df.shape"
   ]
  },
  {
   "cell_type": "code",
   "execution_count": 68,
   "id": "3f5bfd68",
   "metadata": {
    "scrolled": true
   },
   "outputs": [
    {
     "data": {
      "text/plain": [
       "Index(['int_player_id', 'str_player_name', 'str_positions', 'dt_date_of_birth',\n",
       "       'int_height', 'int_weight', 'int_overall_rating',\n",
       "       'int_potential_rating', 'str_best_position', 'int_best_overall_rating',\n",
       "       'int_value', 'int_wage', 'int_team_id', 'str_nationality',\n",
       "       'int_crossing', 'int_finishing', 'int_heading_accuracy',\n",
       "       'int_short_passing', 'int_volleys', 'int_defensive_awareness',\n",
       "       'int_standing_tackle', 'int_sliding_tackle', 'int_diving',\n",
       "       'int_handling', 'int_kicking', 'int_gk_positioning', 'int_reflexes',\n",
       "       'int_aggression', 'int_interceptions', 'int_positioning', 'int_vision',\n",
       "       'int_penalties', 'int_composure', 'int_acceleration',\n",
       "       'int_sprint_speed', 'int_agility', 'int_reactions', 'int_balance',\n",
       "       'int_shot_power', 'int_jumping', 'int_stamina', 'int_strength',\n",
       "       'int_long_shots', 'str_preferred_foot', 'int_weak_foot',\n",
       "       'int_skill_moves', 'int_international_reputations', 'str_work_rate',\n",
       "       'str_body_type', 'int_dribbling', 'int_curve', 'int_fk_accuracy',\n",
       "       'int_long_passing', 'int_ball_control', 'str_player_speciality',\n",
       "       'str_trait'],\n",
       "      dtype='object')"
      ]
     },
     "execution_count": 68,
     "metadata": {},
     "output_type": "execute_result"
    }
   ],
   "source": [
    "df.columns"
   ]
  },
  {
   "cell_type": "code",
   "execution_count": 69,
   "id": "95f18b29",
   "metadata": {},
   "outputs": [
    {
     "data": {
      "text/plain": [
       "Int64Index([1987, 1985, 1993, 1991, 1992, 1988, 1998, 1992, 1992, 1992,\n",
       "            ...\n",
       "            1999, 1997, 1999, 1999, 1997, 1999, 2003, 1999, 2003, 2001],\n",
       "           dtype='int64', name='dt_date_of_birth', length=19002)"
      ]
     },
     "execution_count": 69,
     "metadata": {},
     "output_type": "execute_result"
    }
   ],
   "source": [
    "pd.DatetimeIndex(pd.to_datetime(df['dt_date_of_birth'])).year"
   ]
  },
  {
   "cell_type": "code",
   "execution_count": 7,
   "id": "f33d8620",
   "metadata": {
    "scrolled": true
   },
   "outputs": [
    {
     "data": {
      "text/plain": [
       "2023"
      ]
     },
     "execution_count": 7,
     "metadata": {},
     "output_type": "execute_result"
    }
   ],
   "source": [
    "date.today().year"
   ]
  },
  {
   "cell_type": "code",
   "execution_count": 8,
   "id": "5bbea20d",
   "metadata": {},
   "outputs": [],
   "source": [
    "df['int_player_age'] = date.today().year - pd.DatetimeIndex(pd.to_datetime(df['dt_date_of_birth'])).year"
   ]
  },
  {
   "cell_type": "markdown",
   "id": "57ef45d2",
   "metadata": {},
   "source": [
    "## looking for wage"
   ]
  },
  {
   "cell_type": "code",
   "execution_count": 9,
   "id": "5dac137c",
   "metadata": {},
   "outputs": [
    {
     "data": {
      "text/plain": [
       "<AxesSubplot:>"
      ]
     },
     "execution_count": 9,
     "metadata": {},
     "output_type": "execute_result"
    },
    {
     "data": {
      "image/png": "[encoded data removed]",
      "text/plain": [
       "<Figure size 640x480 with 1 Axes>"
      ]
     },
     "metadata": {},
     "output_type": "display_data"
    }
   ],
   "source": [
    "df.int_wage.plot.box()"
   ]
  },
  {
   "cell_type": "code",
   "execution_count": 10,
   "id": "25e3dfe5",
   "metadata": {
    "scrolled": false
   },
   "outputs": [
    {
     "data": {
      "text/plain": [
       "count     19002.000000\n",
       "mean       9113.167035\n",
       "std       19735.324238\n",
       "min           0.000000\n",
       "25%        1000.000000\n",
       "50%        3000.000000\n",
       "75%        8000.000000\n",
       "max      560000.000000\n",
       "Name: int_wage, dtype: float64"
      ]
     },
     "execution_count": 10,
     "metadata": {},
     "output_type": "execute_result"
    }
   ],
   "source": [
    "df['int_wage'].describe()"
   ]
  },
  {
   "cell_type": "code",
   "execution_count": 11,
   "id": "ca13bc2d",
   "metadata": {},
   "outputs": [],
   "source": [
    "IQR = np.percentile(df.int_wage,75)-np.percentile(df.int_wage,25)"
   ]
  },
  {
   "cell_type": "code",
   "execution_count": 12,
   "id": "711afff3",
   "metadata": {},
   "outputs": [
    {
     "data": {
      "text/plain": [
       "False    16629\n",
       "True      2373\n",
       "Name: int_wage, dtype: int64"
      ]
     },
     "execution_count": 12,
     "metadata": {},
     "output_type": "execute_result"
    }
   ],
   "source": [
    "(df.int_wage>np.percentile(df.int_wage,75)+1.5*IQR).value_counts()"
   ]
  },
  {
   "cell_type": "code",
   "execution_count": 13,
   "id": "24877745",
   "metadata": {},
   "outputs": [
    {
     "data": {
      "text/plain": [
       "12.488159141143038"
      ]
     },
     "execution_count": 13,
     "metadata": {},
     "output_type": "execute_result"
    }
   ],
   "source": [
    "(df.int_wage>np.percentile(df.int_wage,75)+1.5*IQR).value_counts()[1]/df.shape[0] * 100"
   ]
  },
  {
   "cell_type": "code",
   "execution_count": 14,
   "id": "46dff778",
   "metadata": {
    "scrolled": true
   },
   "outputs": [
    {
     "data": {
      "text/plain": [
       "False    17354\n",
       "True      1648\n",
       "Name: int_wage, dtype: int64"
      ]
     },
     "execution_count": 14,
     "metadata": {},
     "output_type": "execute_result"
    }
   ],
   "source": [
    "(df.int_wage>np.percentile(df.int_wage,75)+2.5*IQR).value_counts()"
   ]
  },
  {
   "cell_type": "code",
   "execution_count": 15,
   "id": "2923dbb5",
   "metadata": {},
   "outputs": [
    {
     "data": {
      "text/plain": [
       "8.672771287232923"
      ]
     },
     "execution_count": 15,
     "metadata": {},
     "output_type": "execute_result"
    }
   ],
   "source": [
    "(df.int_wage>np.percentile(df.int_wage,75)+2.5*IQR).value_counts()[1]/df.shape[0] * 100"
   ]
  },
  {
   "cell_type": "code",
   "execution_count": 16,
   "id": "14f47c25",
   "metadata": {},
   "outputs": [
    {
     "data": {
      "text/plain": [
       "91579000"
      ]
     },
     "execution_count": 16,
     "metadata": {},
     "output_type": "execute_result"
    }
   ],
   "source": [
    "df[df.int_wage>np.percentile(df.int_wage,75)+2.5*IQR].int_wage.sum()"
   ]
  },
  {
   "cell_type": "code",
   "execution_count": 17,
   "id": "f29e42f1",
   "metadata": {},
   "outputs": [
    {
     "data": {
      "text/plain": [
       "81589400"
      ]
     },
     "execution_count": 17,
     "metadata": {},
     "output_type": "execute_result"
    }
   ],
   "source": [
    "df[df.int_wage<=np.percentile(df.int_wage,75)+2.5*IQR].int_wage.sum()"
   ]
  },
  {
   "cell_type": "code",
   "execution_count": 33,
   "id": "dd9dc383",
   "metadata": {},
   "outputs": [
    {
     "data": {
      "text/plain": [
       "<AxesSubplot:>"
      ]
     },
     "execution_count": 33,
     "metadata": {},
     "output_type": "execute_result"
    },
    {
     "data": {
      "image/png": "[encoded data removed]",
      "text/plain": [
       "<Figure size 640x480 with 2 Axes>"
      ]
     },
     "metadata": {},
     "output_type": "display_data"
    }
   ],
   "source": [
    "sns.heatmap(df.iloc[:,10:11])"
   ]
  },
  {
   "cell_type": "code",
   "execution_count": null,
   "id": "4717f479",
   "metadata": {},
   "outputs": [],
   "source": []
  },
  {
   "cell_type": "markdown",
   "id": "82567018",
   "metadata": {},
   "source": [
    "## one-hot for position"
   ]
  },
  {
   "cell_type": "code",
   "execution_count": 19,
   "id": "5bbab8d5",
   "metadata": {},
   "outputs": [
    {
     "data": {
      "text/plain": [
       "int_player_id                      int64\n",
       "str_player_name                   object\n",
       "str_positions                     object\n",
       "dt_date_of_birth                  object\n",
       "int_height                         int64\n",
       "int_weight                         int64\n",
       "int_overall_rating                 int64\n",
       "int_potential_rating               int64\n",
       "str_best_position                 object\n",
       "int_best_overall_rating            int64\n",
       "int_value                          int64\n",
       "int_wage                           int64\n",
       "int_team_id                      float64\n",
       "str_nationality                   object\n",
       "int_crossing                       int64\n",
       "int_finishing                      int64\n",
       "int_heading_accuracy               int64\n",
       "int_short_passing                  int64\n",
       "int_volleys                        int64\n",
       "int_defensive_awareness            int64\n",
       "int_standing_tackle                int64\n",
       "int_sliding_tackle                 int64\n",
       "int_diving                         int64\n",
       "int_handling                       int64\n",
       "int_kicking                        int64\n",
       "int_gk_positioning                 int64\n",
       "int_reflexes                       int64\n",
       "int_aggression                     int64\n",
       "int_interceptions                  int64\n",
       "int_positioning                    int64\n",
       "int_vision                         int64\n",
       "int_penalties                      int64\n",
       "int_composure                      int64\n",
       "int_acceleration                   int64\n",
       "int_sprint_speed                   int64\n",
       "int_agility                        int64\n",
       "int_reactions                      int64\n",
       "int_balance                        int64\n",
       "int_shot_power                     int64\n",
       "int_jumping                        int64\n",
       "int_stamina                        int64\n",
       "int_strength                       int64\n",
       "int_long_shots                     int64\n",
       "str_preferred_foot                object\n",
       "int_weak_foot                      int64\n",
       "int_skill_moves                    int64\n",
       "int_international_reputations      int64\n",
       "str_work_rate                     object\n",
       "str_body_type                     object\n",
       "int_dribbling                      int64\n",
       "int_curve                          int64\n",
       "int_fk_accuracy                    int64\n",
       "int_long_passing                   int64\n",
       "int_ball_control                   int64\n",
       "str_player_speciality             object\n",
       "str_trait                         object\n",
       "int_player_age                     int64\n",
       "dtype: object"
      ]
     },
     "execution_count": 19,
     "metadata": {},
     "output_type": "execute_result"
    }
   ],
   "source": [
    "df.dtypes"
   ]
  },
  {
   "cell_type": "code",
   "execution_count": 70,
   "id": "54c220e6",
   "metadata": {
    "scrolled": false
   },
   "outputs": [
    {
     "data": {
      "text/plain": [
       "CB             2437\n",
       "GK             2088\n",
       "ST             1873\n",
       "CDM, CM         846\n",
       "CM              780\n",
       "               ... \n",
       "LB, LW, RB        1\n",
       "CF, RM, RWB       1\n",
       "RM, RW, RB        1\n",
       "CDM, RM, CM       1\n",
       "LB, LWB, LW       1\n",
       "Name: str_positions, Length: 642, dtype: int64"
      ]
     },
     "execution_count": 70,
     "metadata": {},
     "output_type": "execute_result"
    }
   ],
   "source": [
    "df['str_positions'].value_counts()"
   ]
  },
  {
   "cell_type": "code",
   "execution_count": 101,
   "id": "bbf9636d",
   "metadata": {
    "scrolled": false
   },
   "outputs": [
    {
     "data": {
      "text/plain": [
       "CB     3684\n",
       "ST     2699\n",
       "CAM    2301\n",
       "GK     2089\n",
       "RM     1596\n",
       "CDM    1456\n",
       "RB     1082\n",
       "LB     1067\n",
       "CM     1043\n",
       "LM      880\n",
       "RW      299\n",
       "RWB     284\n",
       "LWB     260\n",
       "LW      186\n",
       "CF       76\n",
       "Name: str_best_position, dtype: int64"
      ]
     },
     "execution_count": 101,
     "metadata": {},
     "output_type": "execute_result"
    }
   ],
   "source": [
    "df['str_best_position'].value_counts()"
   ]
  },
  {
   "cell_type": "code",
   "execution_count": 71,
   "id": "726c3d22",
   "metadata": {},
   "outputs": [],
   "source": [
    "df['pos'] = df['str_positions'].str.replace(\" \",\"\")"
   ]
  },
  {
   "cell_type": "code",
   "execution_count": 72,
   "id": "90d11e69",
   "metadata": {
    "scrolled": true
   },
   "outputs": [
    {
     "data": {
      "text/plain": [
       "Index(['CAM', 'CB', 'CDM', 'CF', 'CM', 'GK', 'LB', 'LM', 'LW', 'LWB', 'RB',\n",
       "       'RM', 'RW', 'RWB', 'ST'],\n",
       "      dtype='object')"
      ]
     },
     "execution_count": 72,
     "metadata": {},
     "output_type": "execute_result"
    }
   ],
   "source": [
    "df['pos'].str.get_dummies(sep = ',').columns"
   ]
  },
  {
   "cell_type": "code",
   "execution_count": 73,
   "id": "ad67684c",
   "metadata": {
    "scrolled": true
   },
   "outputs": [
    {
     "data": {
      "text/plain": [
       "15"
      ]
     },
     "execution_count": 73,
     "metadata": {},
     "output_type": "execute_result"
    }
   ],
   "source": [
    "len(df['pos'].str.get_dummies(sep = ',').columns)"
   ]
  },
  {
   "cell_type": "code",
   "execution_count": 74,
   "id": "e33057e9",
   "metadata": {},
   "outputs": [],
   "source": [
    "def pos_fun(x):\n",
    "    re = \"\"\n",
    "    tmp = x.split(\",\")\n",
    "    for t in tmp:\n",
    "        if \"GK\" in t :\n",
    "            re += \",GK\"\n",
    "        elif \"B\" in t:\n",
    "            re += \",Back\"\n",
    "        elif \"M\" in t:\n",
    "            re += \",Mid\"\n",
    "        else:\n",
    "            re += \",Front\"\n",
    "    return re;"
   ]
  },
  {
   "cell_type": "code",
   "execution_count": 75,
   "id": "3d199754",
   "metadata": {
    "scrolled": true
   },
   "outputs": [],
   "source": [
    "df['pos'] = df['pos'].apply(pos_fun)"
   ]
  },
  {
   "cell_type": "code",
   "execution_count": 78,
   "id": "234072dc",
   "metadata": {},
   "outputs": [
    {
     "data": {
      "text/html": [
       "<div>\n",
       "<style scoped>\n",
       "    .dataframe tbody tr th:only-of-type {\n",
       "        vertical-align: middle;\n",
       "    }\n",
       "\n",
       "    .dataframe tbody tr th {\n",
       "        vertical-align: top;\n",
       "    }\n",
       "\n",
       "    .dataframe thead th {\n",
       "        text-align: right;\n",
       "    }\n",
       "</style>\n",
       "<table border=\"1\" class=\"dataframe\">\n",
       "  <thead>\n",
       "    <tr style=\"text-align: right;\">\n",
       "      <th></th>\n",
       "      <th>Back</th>\n",
       "      <th>Front</th>\n",
       "      <th>GK</th>\n",
       "      <th>Mid</th>\n",
       "    </tr>\n",
       "  </thead>\n",
       "  <tbody>\n",
       "    <tr>\n",
       "      <th>0</th>\n",
       "      <td>0</td>\n",
       "      <td>1</td>\n",
       "      <td>0</td>\n",
       "      <td>0</td>\n",
       "    </tr>\n",
       "    <tr>\n",
       "      <th>1</th>\n",
       "      <td>0</td>\n",
       "      <td>1</td>\n",
       "      <td>0</td>\n",
       "      <td>0</td>\n",
       "    </tr>\n",
       "    <tr>\n",
       "      <th>2</th>\n",
       "      <td>0</td>\n",
       "      <td>0</td>\n",
       "      <td>1</td>\n",
       "      <td>0</td>\n",
       "    </tr>\n",
       "    <tr>\n",
       "      <th>3</th>\n",
       "      <td>0</td>\n",
       "      <td>0</td>\n",
       "      <td>0</td>\n",
       "      <td>1</td>\n",
       "    </tr>\n",
       "    <tr>\n",
       "      <th>4</th>\n",
       "      <td>0</td>\n",
       "      <td>1</td>\n",
       "      <td>0</td>\n",
       "      <td>1</td>\n",
       "    </tr>\n",
       "    <tr>\n",
       "      <th>...</th>\n",
       "      <td>...</td>\n",
       "      <td>...</td>\n",
       "      <td>...</td>\n",
       "      <td>...</td>\n",
       "    </tr>\n",
       "    <tr>\n",
       "      <th>18997</th>\n",
       "      <td>1</td>\n",
       "      <td>0</td>\n",
       "      <td>0</td>\n",
       "      <td>0</td>\n",
       "    </tr>\n",
       "    <tr>\n",
       "      <th>18998</th>\n",
       "      <td>0</td>\n",
       "      <td>1</td>\n",
       "      <td>0</td>\n",
       "      <td>0</td>\n",
       "    </tr>\n",
       "    <tr>\n",
       "      <th>18999</th>\n",
       "      <td>1</td>\n",
       "      <td>0</td>\n",
       "      <td>0</td>\n",
       "      <td>0</td>\n",
       "    </tr>\n",
       "    <tr>\n",
       "      <th>19000</th>\n",
       "      <td>0</td>\n",
       "      <td>0</td>\n",
       "      <td>0</td>\n",
       "      <td>1</td>\n",
       "    </tr>\n",
       "    <tr>\n",
       "      <th>19001</th>\n",
       "      <td>0</td>\n",
       "      <td>0</td>\n",
       "      <td>0</td>\n",
       "      <td>1</td>\n",
       "    </tr>\n",
       "  </tbody>\n",
       "</table>\n",
       "<p>19002 rows × 4 columns</p>\n",
       "</div>"
      ],
      "text/plain": [
       "       Back  Front  GK  Mid\n",
       "0         0      1   0    0\n",
       "1         0      1   0    0\n",
       "2         0      0   1    0\n",
       "3         0      0   0    1\n",
       "4         0      1   0    1\n",
       "...     ...    ...  ..  ...\n",
       "18997     1      0   0    0\n",
       "18998     0      1   0    0\n",
       "18999     1      0   0    0\n",
       "19000     0      0   0    1\n",
       "19001     0      0   0    1\n",
       "\n",
       "[19002 rows x 4 columns]"
      ]
     },
     "execution_count": 78,
     "metadata": {},
     "output_type": "execute_result"
    }
   ],
   "source": [
    "t = df['pos'].str.get_dummies(sep = ',')\n",
    "t"
   ]
  },
  {
   "cell_type": "code",
   "execution_count": 81,
   "id": "2b2ec42b",
   "metadata": {},
   "outputs": [
    {
     "data": {
      "text/plain": [
       "count    19002.000000\n",
       "mean         1.183981\n",
       "std          0.394878\n",
       "min          1.000000\n",
       "25%          1.000000\n",
       "50%          1.000000\n",
       "75%          1.000000\n",
       "max          3.000000\n",
       "dtype: float64"
      ]
     },
     "execution_count": 81,
     "metadata": {},
     "output_type": "execute_result"
    }
   ],
   "source": [
    "(t.Back+t.Front+t.GK+t.Mid).describe()"
   ]
  },
  {
   "cell_type": "code",
   "execution_count": null,
   "id": "5e1dcff1",
   "metadata": {},
   "outputs": [],
   "source": []
  },
  {
   "cell_type": "code",
   "execution_count": null,
   "id": "7b9a36d1",
   "metadata": {},
   "outputs": [],
   "source": []
  },
  {
   "cell_type": "code",
   "execution_count": null,
   "id": "ac1f7c0c",
   "metadata": {},
   "outputs": [],
   "source": []
  },
  {
   "cell_type": "code",
   "execution_count": 100,
   "id": "e4f195ac",
   "metadata": {},
   "outputs": [
    {
     "data": {
      "text/plain": [
       "21.0     36\n",
       "81.0     34\n",
       "50.0     34\n",
       "22.0     34\n",
       "45.0     34\n",
       "         ..\n",
       "667.0    19\n",
       "670.0    19\n",
       "615.0    19\n",
       "636.0    19\n",
       "657.0    19\n",
       "Name: int_team_id, Length: 681, dtype: int64"
      ]
     },
     "execution_count": 100,
     "metadata": {},
     "output_type": "execute_result"
    }
   ],
   "source": [
    "df['int_team_id'].value_counts()"
   ]
  },
  {
   "cell_type": "code",
   "execution_count": null,
   "id": "3528e79f",
   "metadata": {},
   "outputs": [],
   "source": []
  },
  {
   "cell_type": "markdown",
   "id": "cf8fcf63",
   "metadata": {},
   "source": [
    "## analysis trait"
   ]
  },
  {
   "cell_type": "code",
   "execution_count": 84,
   "id": "077f36ac",
   "metadata": {
    "scrolled": true
   },
   "outputs": [
    {
     "data": {
      "text/plain": [
       "0        ['Finesse Shot', 'Long Shot Taker (AI)', 'Spee...\n",
       "1        ['Power Free-Kick', 'Flair', 'Long Shot Taker ...\n",
       "2                   ['GK Long Throw', 'Comes For Crosses']\n",
       "3        ['Injury Prone', 'Leadership', 'Early Crosser'...\n",
       "4        ['Injury Prone', 'Flair', 'Speed Dribbler (AI)...\n",
       "                               ...                        \n",
       "18997                                                  NaN\n",
       "18998                                                  NaN\n",
       "18999                                                  NaN\n",
       "19000                                                  NaN\n",
       "19001                                                  NaN\n",
       "Name: str_trait, Length: 19002, dtype: object"
      ]
     },
     "execution_count": 84,
     "metadata": {},
     "output_type": "execute_result"
    }
   ],
   "source": [
    "df['str_trait']"
   ]
  },
  {
   "cell_type": "code",
   "execution_count": 92,
   "id": "3fbe892d",
   "metadata": {},
   "outputs": [
    {
     "data": {
      "text/plain": [
       "0        ['FinesseShot','LongShotTaker(AI)','SpeedDribb...\n",
       "1        ['PowerFree-Kick','Flair','LongShotTaker(AI)',...\n",
       "2                        ['GKLongThrow','ComesForCrosses']\n",
       "3        ['InjuryProne','Leadership','EarlyCrosser','Lo...\n",
       "4        ['InjuryProne','Flair','SpeedDribbler(AI)','Ou...\n",
       "                               ...                        \n",
       "18997                                                  NaN\n",
       "18998                                                  NaN\n",
       "18999                                                  NaN\n",
       "19000                                                  NaN\n",
       "19001                                                  NaN\n",
       "Name: tmp, Length: 19002, dtype: object"
      ]
     },
     "execution_count": 92,
     "metadata": {},
     "output_type": "execute_result"
    }
   ],
   "source": [
    "df['tmp'] = df['str_trait'].str.replace(\" \",\"\")\n",
    "df['tmp']"
   ]
  },
  {
   "cell_type": "code",
   "execution_count": 96,
   "id": "8102b479",
   "metadata": {},
   "outputs": [
    {
     "data": {
      "text/plain": [
       "Index([''CautiousWithCrosses'', ''CautiousWithCrosses']', ''ChipShot(AI)'',\n",
       "       ''ChipShot(AI)']', ''ComesForCrosses'', ''ComesForCrosses']',\n",
       "       ''DivesIntoTackles(AI)'', ''DivesIntoTackles(AI)']', ''EarlyCrosser'',\n",
       "       ''EarlyCrosser']', ''FinesseShot'', ''FinesseShot']', ''Flair'',\n",
       "       ''Flair']', ''GKLongThrow'', ''GKLongThrow']', ''GiantThrow-in'',\n",
       "       ''GiantThrow-in']', ''InjuryProne'', ''InjuryProne']', ''Leadership'',\n",
       "       ''Leadership']', ''LongPasser(AI)'', ''LongPasser(AI)']',\n",
       "       ''LongShotTaker(AI)'', ''LongShotTaker(AI)']', ''OneClubPlayer'',\n",
       "       ''OutsideFootShot'', ''OutsideFootShot']', ''Playmaker(AI)'',\n",
       "       ''Playmaker(AI)']', ''PowerFree-Kick'', ''PowerFree-Kick']',\n",
       "       ''PowerHeader'', ''PowerHeader']', ''RushesOutOfGoal'',\n",
       "       ''RushesOutOfGoal']', ''SaveswithFeet']', ''SolidPlayer'',\n",
       "       ''SolidPlayer']', ''SpeedDribbler(AI)'', ''SpeedDribbler(AI)']',\n",
       "       ''TeamPlayer'', ''TeamPlayer']', ''TechnicalDribbler(AI)']',\n",
       "       '['CautiousWithCrosses'', '['CautiousWithCrosses']', '['ChipShot(AI)'',\n",
       "       '['ChipShot(AI)']', '['ComesForCrosses'', '['ComesForCrosses']',\n",
       "       '['DivesIntoTackles(AI)'', '['DivesIntoTackles(AI)']',\n",
       "       '['EarlyCrosser'', '['EarlyCrosser']', '['FinesseShot'',\n",
       "       '['FinesseShot']', '['Flair'', '['Flair']', '['GKLongThrow'',\n",
       "       '['GKLongThrow']', '['GiantThrow-in'', '['GiantThrow-in']',\n",
       "       '['InjuryProne'', '['InjuryProne']', '['Leadership'', '['Leadership']',\n",
       "       '['LongPasser(AI)'', '['LongPasser(AI)']', '['LongShotTaker(AI)'',\n",
       "       '['LongShotTaker(AI)']', '['LongThrow-in'', '['LongThrow-in']',\n",
       "       '['OutsideFootShot'', '['OutsideFootShot']', '['Playmaker(AI)'',\n",
       "       '['Playmaker(AI)']', '['PowerFree-Kick'', '['PowerFree-Kick']',\n",
       "       '['PowerHeader'', '['PowerHeader']', '['RushesOutOfGoal'',\n",
       "       '['RushesOutOfGoal']', '['SaveswithFeet']', '['SolidPlayer'',\n",
       "       '['SolidPlayer']', '['SpeedDribbler(AI)'', '['SpeedDribbler(AI)']',\n",
       "       '['TeamPlayer'', '['TeamPlayer']', '['TechnicalDribbler(AI)']'],\n",
       "      dtype='object')"
      ]
     },
     "execution_count": 96,
     "metadata": {},
     "output_type": "execute_result"
    }
   ],
   "source": [
    "df['tmp'].str.get_dummies(sep = ',').columns"
   ]
  },
  {
   "cell_type": "code",
   "execution_count": 97,
   "id": "540bf7c3",
   "metadata": {},
   "outputs": [
    {
     "data": {
      "text/plain": [
       "91"
      ]
     },
     "execution_count": 97,
     "metadata": {},
     "output_type": "execute_result"
    }
   ],
   "source": [
    "len(df['tmp'].str.get_dummies(sep = ',').columns)"
   ]
  },
  {
   "cell_type": "markdown",
   "id": "d67d611d",
   "metadata": {},
   "source": [
    "## qcut and cross-validation （not finished ）"
   ]
  },
  {
   "cell_type": "code",
   "execution_count": 27,
   "id": "c2117246",
   "metadata": {},
   "outputs": [],
   "source": [
    "tmp = df.copy()\n",
    "tmp['rating'] = pd.qcut(df.int_overall_rating,q=3,labels=['low','med','high'])"
   ]
  },
  {
   "cell_type": "code",
   "execution_count": 28,
   "id": "889b9871",
   "metadata": {},
   "outputs": [
    {
     "data": {
      "text/html": [
       "<div>\n",
       "<style scoped>\n",
       "    .dataframe tbody tr th:only-of-type {\n",
       "        vertical-align: middle;\n",
       "    }\n",
       "\n",
       "    .dataframe tbody tr th {\n",
       "        vertical-align: top;\n",
       "    }\n",
       "\n",
       "    .dataframe thead th {\n",
       "        text-align: right;\n",
       "    }\n",
       "</style>\n",
       "<table border=\"1\" class=\"dataframe\">\n",
       "  <thead>\n",
       "    <tr style=\"text-align: right;\">\n",
       "      <th></th>\n",
       "      <th>int_player_id</th>\n",
       "      <th>str_player_name</th>\n",
       "      <th>str_positions</th>\n",
       "      <th>dt_date_of_birth</th>\n",
       "      <th>int_height</th>\n",
       "      <th>int_weight</th>\n",
       "      <th>int_overall_rating</th>\n",
       "      <th>int_potential_rating</th>\n",
       "      <th>str_best_position</th>\n",
       "      <th>int_best_overall_rating</th>\n",
       "      <th>...</th>\n",
       "      <th>str_body_type</th>\n",
       "      <th>int_dribbling</th>\n",
       "      <th>int_curve</th>\n",
       "      <th>int_fk_accuracy</th>\n",
       "      <th>int_long_passing</th>\n",
       "      <th>int_ball_control</th>\n",
       "      <th>str_player_speciality</th>\n",
       "      <th>str_trait</th>\n",
       "      <th>int_player_age</th>\n",
       "      <th>rating</th>\n",
       "    </tr>\n",
       "  </thead>\n",
       "  <tbody>\n",
       "    <tr>\n",
       "      <th>0</th>\n",
       "      <td>1</td>\n",
       "      <td>Lionel Andrés Messi Cuccittini</td>\n",
       "      <td>RW, ST, CF</td>\n",
       "      <td>1987-06-24</td>\n",
       "      <td>170</td>\n",
       "      <td>72</td>\n",
       "      <td>93</td>\n",
       "      <td>93</td>\n",
       "      <td>RW</td>\n",
       "      <td>93</td>\n",
       "      <td>...</td>\n",
       "      <td>Unique</td>\n",
       "      <td>96</td>\n",
       "      <td>93</td>\n",
       "      <td>94</td>\n",
       "      <td>91</td>\n",
       "      <td>96</td>\n",
       "      <td>['Dribbler', 'Distance Shooter', 'FK Specialis...</td>\n",
       "      <td>['Finesse Shot', 'Long Shot Taker (AI)', 'Spee...</td>\n",
       "      <td>36</td>\n",
       "      <td>high</td>\n",
       "    </tr>\n",
       "    <tr>\n",
       "      <th>1</th>\n",
       "      <td>2</td>\n",
       "      <td>Cristiano Ronaldo dos Santos Aveiro</td>\n",
       "      <td>ST, LW</td>\n",
       "      <td>1985-02-05</td>\n",
       "      <td>187</td>\n",
       "      <td>83</td>\n",
       "      <td>92</td>\n",
       "      <td>92</td>\n",
       "      <td>ST</td>\n",
       "      <td>92</td>\n",
       "      <td>...</td>\n",
       "      <td>Unique</td>\n",
       "      <td>88</td>\n",
       "      <td>81</td>\n",
       "      <td>76</td>\n",
       "      <td>77</td>\n",
       "      <td>92</td>\n",
       "      <td>['Aerial Threat', 'Dribbler', 'Distance Shoote...</td>\n",
       "      <td>['Power Free-Kick', 'Flair', 'Long Shot Taker ...</td>\n",
       "      <td>38</td>\n",
       "      <td>high</td>\n",
       "    </tr>\n",
       "    <tr>\n",
       "      <th>2</th>\n",
       "      <td>3</td>\n",
       "      <td>Jan Oblak</td>\n",
       "      <td>GK</td>\n",
       "      <td>1993-01-07</td>\n",
       "      <td>188</td>\n",
       "      <td>87</td>\n",
       "      <td>91</td>\n",
       "      <td>93</td>\n",
       "      <td>GK</td>\n",
       "      <td>91</td>\n",
       "      <td>...</td>\n",
       "      <td>Unique</td>\n",
       "      <td>12</td>\n",
       "      <td>13</td>\n",
       "      <td>14</td>\n",
       "      <td>40</td>\n",
       "      <td>30</td>\n",
       "      <td>NaN</td>\n",
       "      <td>['GK Long Throw', 'Comes For Crosses']</td>\n",
       "      <td>30</td>\n",
       "      <td>high</td>\n",
       "    </tr>\n",
       "  </tbody>\n",
       "</table>\n",
       "<p>3 rows × 58 columns</p>\n",
       "</div>"
      ],
      "text/plain": [
       "   int_player_id                      str_player_name str_positions  \\\n",
       "0              1       Lionel Andrés Messi Cuccittini    RW, ST, CF   \n",
       "1              2  Cristiano Ronaldo dos Santos Aveiro        ST, LW   \n",
       "2              3                            Jan Oblak            GK   \n",
       "\n",
       "  dt_date_of_birth  int_height  int_weight  int_overall_rating  \\\n",
       "0       1987-06-24         170          72                  93   \n",
       "1       1985-02-05         187          83                  92   \n",
       "2       1993-01-07         188          87                  91   \n",
       "\n",
       "   int_potential_rating str_best_position  int_best_overall_rating  ...  \\\n",
       "0                    93                RW                       93  ...   \n",
       "1                    92                ST                       92  ...   \n",
       "2                    93                GK                       91  ...   \n",
       "\n",
       "   str_body_type  int_dribbling  int_curve int_fk_accuracy  int_long_passing  \\\n",
       "0         Unique             96         93              94                91   \n",
       "1         Unique             88         81              76                77   \n",
       "2         Unique             12         13              14                40   \n",
       "\n",
       "   int_ball_control                              str_player_speciality  \\\n",
       "0                96  ['Dribbler', 'Distance Shooter', 'FK Specialis...   \n",
       "1                92  ['Aerial Threat', 'Dribbler', 'Distance Shoote...   \n",
       "2                30                                                NaN   \n",
       "\n",
       "                                           str_trait  int_player_age  rating  \n",
       "0  ['Finesse Shot', 'Long Shot Taker (AI)', 'Spee...              36    high  \n",
       "1  ['Power Free-Kick', 'Flair', 'Long Shot Taker ...              38    high  \n",
       "2             ['GK Long Throw', 'Comes For Crosses']              30    high  \n",
       "\n",
       "[3 rows x 58 columns]"
      ]
     },
     "execution_count": 28,
     "metadata": {},
     "output_type": "execute_result"
    }
   ],
   "source": [
    "tmp.head(3)"
   ]
  },
  {
   "cell_type": "code",
   "execution_count": 29,
   "id": "d6320b06",
   "metadata": {},
   "outputs": [],
   "source": [
    "X = tmp.drop(['str_positions','int_overall_rating','rating'],axis=1)\n",
    "y = tmp.rating"
   ]
  },
  {
   "cell_type": "code",
   "execution_count": 30,
   "id": "e4e56560",
   "metadata": {},
   "outputs": [],
   "source": [
    "parameters = {'max_depth':[1,2,3,4,5,6,7,8,9,10,11,12,13,14,15]}"
   ]
  },
  {
   "cell_type": "code",
   "execution_count": 31,
   "id": "86d4b218",
   "metadata": {},
   "outputs": [],
   "source": [
    "dtree = DecisionTreeClassifier()\n",
    "dtreeCV = GridSearchCV(dtree, param_grid=parameters,\n",
    "                       return_train_score=True,\n",
    "                       n_jobs=-1)"
   ]
  },
  {
   "cell_type": "code",
   "execution_count": 32,
   "id": "cbabe9ba",
   "metadata": {
    "scrolled": true
   },
   "outputs": [
    {
     "ename": "ValueError",
     "evalue": "\nAll the 75 fits failed.\nIt is very likely that your model is misconfigured.\nYou can try to debug the error by setting error_score='raise'.\n\nBelow are more details about the failures:\n--------------------------------------------------------------------------------\n15 fits failed with the following error:\nTraceback (most recent call last):\n  File \"/Users/IscoJ/opt/anaconda3/envs/tf2/lib/python3.9/site-packages/sklearn/model_selection/_validation.py\", line 686, in _fit_and_score\n    estimator.fit(X_train, y_train, **fit_params)\n  File \"/Users/IscoJ/opt/anaconda3/envs/tf2/lib/python3.9/site-packages/sklearn/tree/_classes.py\", line 969, in fit\n    super().fit(\n  File \"/Users/IscoJ/opt/anaconda3/envs/tf2/lib/python3.9/site-packages/sklearn/tree/_classes.py\", line 172, in fit\n    X, y = self._validate_data(\n  File \"/Users/IscoJ/opt/anaconda3/envs/tf2/lib/python3.9/site-packages/sklearn/base.py\", line 591, in _validate_data\n    X = check_array(X, input_name=\"X\", **check_X_params)\n  File \"/Users/IscoJ/opt/anaconda3/envs/tf2/lib/python3.9/site-packages/sklearn/utils/validation.py\", line 856, in check_array\n    array = np.asarray(array, order=order, dtype=dtype)\n  File \"/Users/IscoJ/opt/anaconda3/envs/tf2/lib/python3.9/site-packages/pandas/core/generic.py\", line 2070, in __array__\n    return np.asarray(self._values, dtype=dtype)\nValueError: could not convert string to float: 'Aleksandar Mitrović'\n\n--------------------------------------------------------------------------------\n60 fits failed with the following error:\nTraceback (most recent call last):\n  File \"/Users/IscoJ/opt/anaconda3/envs/tf2/lib/python3.9/site-packages/sklearn/model_selection/_validation.py\", line 686, in _fit_and_score\n    estimator.fit(X_train, y_train, **fit_params)\n  File \"/Users/IscoJ/opt/anaconda3/envs/tf2/lib/python3.9/site-packages/sklearn/tree/_classes.py\", line 969, in fit\n    super().fit(\n  File \"/Users/IscoJ/opt/anaconda3/envs/tf2/lib/python3.9/site-packages/sklearn/tree/_classes.py\", line 172, in fit\n    X, y = self._validate_data(\n  File \"/Users/IscoJ/opt/anaconda3/envs/tf2/lib/python3.9/site-packages/sklearn/base.py\", line 591, in _validate_data\n    X = check_array(X, input_name=\"X\", **check_X_params)\n  File \"/Users/IscoJ/opt/anaconda3/envs/tf2/lib/python3.9/site-packages/sklearn/utils/validation.py\", line 856, in check_array\n    array = np.asarray(array, order=order, dtype=dtype)\n  File \"/Users/IscoJ/opt/anaconda3/envs/tf2/lib/python3.9/site-packages/pandas/core/generic.py\", line 2070, in __array__\n    return np.asarray(self._values, dtype=dtype)\nValueError: could not convert string to float: 'Lionel Andrés Messi Cuccittini'\n",
     "output_type": "error",
     "traceback": [
      "\u001b[0;31m---------------------------------------------------------------------------\u001b[0m",
      "\u001b[0;31mValueError\u001b[0m                                Traceback (most recent call last)",
      "Cell \u001b[0;32mIn [32], line 1\u001b[0m\n\u001b[0;32m----> 1\u001b[0m \u001b[43mdtreeCV\u001b[49m\u001b[38;5;241;43m.\u001b[39;49m\u001b[43mfit\u001b[49m\u001b[43m(\u001b[49m\u001b[43mX\u001b[49m\u001b[43m,\u001b[49m\u001b[43my\u001b[49m\u001b[43m)\u001b[49m\n",
      "File \u001b[0;32m~/opt/anaconda3/envs/tf2/lib/python3.9/site-packages/sklearn/model_selection/_search.py:875\u001b[0m, in \u001b[0;36mBaseSearchCV.fit\u001b[0;34m(self, X, y, groups, **fit_params)\u001b[0m\n\u001b[1;32m    869\u001b[0m     results \u001b[38;5;241m=\u001b[39m \u001b[38;5;28mself\u001b[39m\u001b[38;5;241m.\u001b[39m_format_results(\n\u001b[1;32m    870\u001b[0m         all_candidate_params, n_splits, all_out, all_more_results\n\u001b[1;32m    871\u001b[0m     )\n\u001b[1;32m    873\u001b[0m     \u001b[38;5;28;01mreturn\u001b[39;00m results\n\u001b[0;32m--> 875\u001b[0m \u001b[38;5;28;43mself\u001b[39;49m\u001b[38;5;241;43m.\u001b[39;49m\u001b[43m_run_search\u001b[49m\u001b[43m(\u001b[49m\u001b[43mevaluate_candidates\u001b[49m\u001b[43m)\u001b[49m\n\u001b[1;32m    877\u001b[0m \u001b[38;5;66;03m# multimetric is determined here because in the case of a callable\u001b[39;00m\n\u001b[1;32m    878\u001b[0m \u001b[38;5;66;03m# self.scoring the return type is only known after calling\u001b[39;00m\n\u001b[1;32m    879\u001b[0m first_test_score \u001b[38;5;241m=\u001b[39m all_out[\u001b[38;5;241m0\u001b[39m][\u001b[38;5;124m\"\u001b[39m\u001b[38;5;124mtest_scores\u001b[39m\u001b[38;5;124m\"\u001b[39m]\n",
      "File \u001b[0;32m~/opt/anaconda3/envs/tf2/lib/python3.9/site-packages/sklearn/model_selection/_search.py:1379\u001b[0m, in \u001b[0;36mGridSearchCV._run_search\u001b[0;34m(self, evaluate_candidates)\u001b[0m\n\u001b[1;32m   1377\u001b[0m \u001b[38;5;28;01mdef\u001b[39;00m \u001b[38;5;21m_run_search\u001b[39m(\u001b[38;5;28mself\u001b[39m, evaluate_candidates):\n\u001b[1;32m   1378\u001b[0m     \u001b[38;5;124;03m\"\"\"Search all candidates in param_grid\"\"\"\u001b[39;00m\n\u001b[0;32m-> 1379\u001b[0m     \u001b[43mevaluate_candidates\u001b[49m\u001b[43m(\u001b[49m\u001b[43mParameterGrid\u001b[49m\u001b[43m(\u001b[49m\u001b[38;5;28;43mself\u001b[39;49m\u001b[38;5;241;43m.\u001b[39;49m\u001b[43mparam_grid\u001b[49m\u001b[43m)\u001b[49m\u001b[43m)\u001b[49m\n",
      "File \u001b[0;32m~/opt/anaconda3/envs/tf2/lib/python3.9/site-packages/sklearn/model_selection/_search.py:852\u001b[0m, in \u001b[0;36mBaseSearchCV.fit.<locals>.evaluate_candidates\u001b[0;34m(candidate_params, cv, more_results)\u001b[0m\n\u001b[1;32m    845\u001b[0m \u001b[38;5;28;01melif\u001b[39;00m \u001b[38;5;28mlen\u001b[39m(out) \u001b[38;5;241m!=\u001b[39m n_candidates \u001b[38;5;241m*\u001b[39m n_splits:\n\u001b[1;32m    846\u001b[0m     \u001b[38;5;28;01mraise\u001b[39;00m \u001b[38;5;167;01mValueError\u001b[39;00m(\n\u001b[1;32m    847\u001b[0m         \u001b[38;5;124m\"\u001b[39m\u001b[38;5;124mcv.split and cv.get_n_splits returned \u001b[39m\u001b[38;5;124m\"\u001b[39m\n\u001b[1;32m    848\u001b[0m         \u001b[38;5;124m\"\u001b[39m\u001b[38;5;124minconsistent results. Expected \u001b[39m\u001b[38;5;132;01m{}\u001b[39;00m\u001b[38;5;124m \u001b[39m\u001b[38;5;124m\"\u001b[39m\n\u001b[1;32m    849\u001b[0m         \u001b[38;5;124m\"\u001b[39m\u001b[38;5;124msplits, got \u001b[39m\u001b[38;5;132;01m{}\u001b[39;00m\u001b[38;5;124m\"\u001b[39m\u001b[38;5;241m.\u001b[39mformat(n_splits, \u001b[38;5;28mlen\u001b[39m(out) \u001b[38;5;241m/\u001b[39m\u001b[38;5;241m/\u001b[39m n_candidates)\n\u001b[1;32m    850\u001b[0m     )\n\u001b[0;32m--> 852\u001b[0m \u001b[43m_warn_or_raise_about_fit_failures\u001b[49m\u001b[43m(\u001b[49m\u001b[43mout\u001b[49m\u001b[43m,\u001b[49m\u001b[43m \u001b[49m\u001b[38;5;28;43mself\u001b[39;49m\u001b[38;5;241;43m.\u001b[39;49m\u001b[43merror_score\u001b[49m\u001b[43m)\u001b[49m\n\u001b[1;32m    854\u001b[0m \u001b[38;5;66;03m# For callable self.scoring, the return type is only know after\u001b[39;00m\n\u001b[1;32m    855\u001b[0m \u001b[38;5;66;03m# calling. If the return type is a dictionary, the error scores\u001b[39;00m\n\u001b[1;32m    856\u001b[0m \u001b[38;5;66;03m# can now be inserted with the correct key. The type checking\u001b[39;00m\n\u001b[1;32m    857\u001b[0m \u001b[38;5;66;03m# of out will be done in `_insert_error_scores`.\u001b[39;00m\n\u001b[1;32m    858\u001b[0m \u001b[38;5;28;01mif\u001b[39;00m callable(\u001b[38;5;28mself\u001b[39m\u001b[38;5;241m.\u001b[39mscoring):\n",
      "File \u001b[0;32m~/opt/anaconda3/envs/tf2/lib/python3.9/site-packages/sklearn/model_selection/_validation.py:367\u001b[0m, in \u001b[0;36m_warn_or_raise_about_fit_failures\u001b[0;34m(results, error_score)\u001b[0m\n\u001b[1;32m    360\u001b[0m \u001b[38;5;28;01mif\u001b[39;00m num_failed_fits \u001b[38;5;241m==\u001b[39m num_fits:\n\u001b[1;32m    361\u001b[0m     all_fits_failed_message \u001b[38;5;241m=\u001b[39m (\n\u001b[1;32m    362\u001b[0m         \u001b[38;5;124mf\u001b[39m\u001b[38;5;124m\"\u001b[39m\u001b[38;5;130;01m\\n\u001b[39;00m\u001b[38;5;124mAll the \u001b[39m\u001b[38;5;132;01m{\u001b[39;00mnum_fits\u001b[38;5;132;01m}\u001b[39;00m\u001b[38;5;124m fits failed.\u001b[39m\u001b[38;5;130;01m\\n\u001b[39;00m\u001b[38;5;124m\"\u001b[39m\n\u001b[1;32m    363\u001b[0m         \u001b[38;5;124m\"\u001b[39m\u001b[38;5;124mIt is very likely that your model is misconfigured.\u001b[39m\u001b[38;5;130;01m\\n\u001b[39;00m\u001b[38;5;124m\"\u001b[39m\n\u001b[1;32m    364\u001b[0m         \u001b[38;5;124m\"\u001b[39m\u001b[38;5;124mYou can try to debug the error by setting error_score=\u001b[39m\u001b[38;5;124m'\u001b[39m\u001b[38;5;124mraise\u001b[39m\u001b[38;5;124m'\u001b[39m\u001b[38;5;124m.\u001b[39m\u001b[38;5;130;01m\\n\u001b[39;00m\u001b[38;5;130;01m\\n\u001b[39;00m\u001b[38;5;124m\"\u001b[39m\n\u001b[1;32m    365\u001b[0m         \u001b[38;5;124mf\u001b[39m\u001b[38;5;124m\"\u001b[39m\u001b[38;5;124mBelow are more details about the failures:\u001b[39m\u001b[38;5;130;01m\\n\u001b[39;00m\u001b[38;5;132;01m{\u001b[39;00mfit_errors_summary\u001b[38;5;132;01m}\u001b[39;00m\u001b[38;5;124m\"\u001b[39m\n\u001b[1;32m    366\u001b[0m     )\n\u001b[0;32m--> 367\u001b[0m     \u001b[38;5;28;01mraise\u001b[39;00m \u001b[38;5;167;01mValueError\u001b[39;00m(all_fits_failed_message)\n\u001b[1;32m    369\u001b[0m \u001b[38;5;28;01melse\u001b[39;00m:\n\u001b[1;32m    370\u001b[0m     some_fits_failed_message \u001b[38;5;241m=\u001b[39m (\n\u001b[1;32m    371\u001b[0m         \u001b[38;5;124mf\u001b[39m\u001b[38;5;124m\"\u001b[39m\u001b[38;5;130;01m\\n\u001b[39;00m\u001b[38;5;132;01m{\u001b[39;00mnum_failed_fits\u001b[38;5;132;01m}\u001b[39;00m\u001b[38;5;124m fits failed out of a total of \u001b[39m\u001b[38;5;132;01m{\u001b[39;00mnum_fits\u001b[38;5;132;01m}\u001b[39;00m\u001b[38;5;124m.\u001b[39m\u001b[38;5;130;01m\\n\u001b[39;00m\u001b[38;5;124m\"\u001b[39m\n\u001b[1;32m    372\u001b[0m         \u001b[38;5;124m\"\u001b[39m\u001b[38;5;124mThe score on these train-test partitions for these parameters\u001b[39m\u001b[38;5;124m\"\u001b[39m\n\u001b[0;32m   (...)\u001b[0m\n\u001b[1;32m    376\u001b[0m         \u001b[38;5;124mf\u001b[39m\u001b[38;5;124m\"\u001b[39m\u001b[38;5;124mBelow are more details about the failures:\u001b[39m\u001b[38;5;130;01m\\n\u001b[39;00m\u001b[38;5;132;01m{\u001b[39;00mfit_errors_summary\u001b[38;5;132;01m}\u001b[39;00m\u001b[38;5;124m\"\u001b[39m\n\u001b[1;32m    377\u001b[0m     )\n",
      "\u001b[0;31mValueError\u001b[0m: \nAll the 75 fits failed.\nIt is very likely that your model is misconfigured.\nYou can try to debug the error by setting error_score='raise'.\n\nBelow are more details about the failures:\n--------------------------------------------------------------------------------\n15 fits failed with the following error:\nTraceback (most recent call last):\n  File \"/Users/IscoJ/opt/anaconda3/envs/tf2/lib/python3.9/site-packages/sklearn/model_selection/_validation.py\", line 686, in _fit_and_score\n    estimator.fit(X_train, y_train, **fit_params)\n  File \"/Users/IscoJ/opt/anaconda3/envs/tf2/lib/python3.9/site-packages/sklearn/tree/_classes.py\", line 969, in fit\n    super().fit(\n  File \"/Users/IscoJ/opt/anaconda3/envs/tf2/lib/python3.9/site-packages/sklearn/tree/_classes.py\", line 172, in fit\n    X, y = self._validate_data(\n  File \"/Users/IscoJ/opt/anaconda3/envs/tf2/lib/python3.9/site-packages/sklearn/base.py\", line 591, in _validate_data\n    X = check_array(X, input_name=\"X\", **check_X_params)\n  File \"/Users/IscoJ/opt/anaconda3/envs/tf2/lib/python3.9/site-packages/sklearn/utils/validation.py\", line 856, in check_array\n    array = np.asarray(array, order=order, dtype=dtype)\n  File \"/Users/IscoJ/opt/anaconda3/envs/tf2/lib/python3.9/site-packages/pandas/core/generic.py\", line 2070, in __array__\n    return np.asarray(self._values, dtype=dtype)\nValueError: could not convert string to float: 'Aleksandar Mitrović'\n\n--------------------------------------------------------------------------------\n60 fits failed with the following error:\nTraceback (most recent call last):\n  File \"/Users/IscoJ/opt/anaconda3/envs/tf2/lib/python3.9/site-packages/sklearn/model_selection/_validation.py\", line 686, in _fit_and_score\n    estimator.fit(X_train, y_train, **fit_params)\n  File \"/Users/IscoJ/opt/anaconda3/envs/tf2/lib/python3.9/site-packages/sklearn/tree/_classes.py\", line 969, in fit\n    super().fit(\n  File \"/Users/IscoJ/opt/anaconda3/envs/tf2/lib/python3.9/site-packages/sklearn/tree/_classes.py\", line 172, in fit\n    X, y = self._validate_data(\n  File \"/Users/IscoJ/opt/anaconda3/envs/tf2/lib/python3.9/site-packages/sklearn/base.py\", line 591, in _validate_data\n    X = check_array(X, input_name=\"X\", **check_X_params)\n  File \"/Users/IscoJ/opt/anaconda3/envs/tf2/lib/python3.9/site-packages/sklearn/utils/validation.py\", line 856, in check_array\n    array = np.asarray(array, order=order, dtype=dtype)\n  File \"/Users/IscoJ/opt/anaconda3/envs/tf2/lib/python3.9/site-packages/pandas/core/generic.py\", line 2070, in __array__\n    return np.asarray(self._values, dtype=dtype)\nValueError: could not convert string to float: 'Lionel Andrés Messi Cuccittini'\n"
     ]
    }
   ],
   "source": [
    "dtreeCV.fit(X,y)"
   ]
  },
  {
   "cell_type": "code",
   "execution_count": null,
   "id": "66e196c0",
   "metadata": {},
   "outputs": [],
   "source": []
  }
 ],
 "metadata": {
  "kernelspec": {
   "display_name": "Python 3 (ipykernel)",
   "language": "python",
   "name": "python3"
  },
  "language_info": {
   "codemirror_mode": {
    "name": "ipython",
    "version": 3
   },
   "file_extension": ".py",
   "mimetype": "text/x-python",
   "name": "python",
   "nbconvert_exporter": "python",
   "pygments_lexer": "ipython3",
   "version": "3.9.15"
  }
 },
 "nbformat": 4,
 "nbformat_minor": 5
}
